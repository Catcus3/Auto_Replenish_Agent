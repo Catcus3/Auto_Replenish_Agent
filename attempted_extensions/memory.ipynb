{
 "cells": [
  {
   "cell_type": "markdown",
   "id": "668bc409-7c10-4f0c-842d-7159152fecf9",
   "metadata": {
    "tags": []
   },
   "source": [
    "### pip install"
   ]
  },
  {
   "cell_type": "code",
   "execution_count": 51,
   "id": "d8428c7a-9361-4cba-8f40-ea859e90a5e0",
   "metadata": {},
   "outputs": [],
   "source": [
    "#pip install\n",
    "!pip install faiss-gpu --quiet\n",
    "!pip install boto3 --quiet\n",
    "!pip install langchain-aws --quiet\n",
    "!pip install langchain-community boto3 --quiet\n",
    "!pip install boto3 requests requests-aws4auth --quiet\n",
    "!pip install pymongo --quiet\n",
    "!pip install google-search-results sagemaker --quiet\n",
    "!pip install boto3 nltk --quiet\n",
    "!pip install wikipedia --quiet\n",
    "!pip install tavily-python --quiet\n",
    "!pip install --upgrade langchain sympy numexpr --quiet\n",
    "!pip install langchain-experimental --quiet\n",
    "!pip install -U langgraph langchain_community langchain_anthropic langchain_experimental --quiet\n",
    "!pip install langchain-redis langchain-openai redis --quiet\n",
    "#!docker run -d -p 6379:6379 redis:latest --quiet"
   ]
  },
  {
   "cell_type": "markdown",
   "id": "e7f41439-8435-4890-b5d4-45b8482e0ee9",
   "metadata": {
    "tags": []
   },
   "source": [
    "### libraries"
   ]
  },
  {
   "cell_type": "code",
   "execution_count": 52,
   "id": "c43bee77-54e1-4edc-9657-c393cf667de7",
   "metadata": {
    "tags": []
   },
   "outputs": [],
   "source": [
    "import boto3\n",
    "import os\n",
    "from langchain import hub\n",
    "\n",
    "#chat models\n",
    "from langchain_aws import ChatBedrock\n",
    "from langchain_aws import ChatBedrockConverse\n",
    "\n",
    "#LLMs\n",
    "from langchain_aws import BedrockLLM\n",
    "from langchain_community.llms import AmazonAPIGateway\n",
    "from langchain_aws import SagemakerEndpoint\n",
    "\n",
    "#prompts\n",
    "from langchain.prompts import PromptTemplate\n",
    "\n",
    "#embedding models\n",
    "from langchain_aws import BedrockEmbeddings\n",
    "# from langchain_community.embeddings import BedrockEmbeddings\n",
    "from langchain_community.embeddings import SagemakerEndpointEmbeddings\n",
    "from langchain_community.llms.sagemaker_endpoint import ContentHandlerBase\n",
    "\n",
    "#document loaders\n",
    "from langchain_community.document_loaders import S3DirectoryLoader, S3FileLoader\n",
    "from langchain_community.document_loaders import AmazonTextractPDFLoader\n",
    "\n",
    "#vector stores\n",
    "from langchain_community.vectorstores import OpenSearchVectorSearch\n",
    "from langchain_community.vectorstores import DocumentDBVectorSearch\n",
    "\n",
    "from langchain_aws.vectorstores.inmemorydb import InMemoryVectorStore\n",
    "\n",
    "#retrievers\n",
    "from langchain_aws import AmazonKendraRetriever\n",
    "from langchain_aws import AmazonKnowledgeBasesRetriever\n",
    "\n",
    "#memory\n",
    "from langchain_community.chat_message_histories import DynamoDBChatMessageHistory\n",
    "from langchain_community.chat_message_histories.redis import RedisChatMessageHistory\n",
    "from langchain.memory import ChatMessageHistory\n",
    "from langchain_core.runnables.history import RunnableWithMessageHistory\n",
    "from langchain_core.runnables import RunnableLambda\n",
    "from langchain_core.runnables import ConfigurableFieldSpec\n",
    "from langchain_core.runnables import RunnablePassthrough\n",
    "\n",
    "#graphs\n",
    "from langchain_community.graphs import NeptuneGraph\n",
    "from langchain_community.graphs import NeptuneAnalyticsGraph\n",
    "from langchain_community.chains.graph_qa.neptune_cypher import NeptuneOpenCypherQAChain\n",
    "\n",
    "from langchain_community.graphs import NeptuneRdfGraph\n",
    "from langchain_community.chains.graph_qa.neptune_sparql import NeptuneSparqlQAChain\n",
    "\n",
    "#callbacks\n",
    "from langchain_community.callbacks.bedrock_anthropic_callback import BedrockAnthropicTokenUsageCallbackHandler\n",
    "from langchain_community.callbacks import SageMakerCallbackHandler\n",
    "\n",
    "#chains\n",
    "# from langchain_experimental.comprehend_moderation import AmazonComprehendModerationChain\n",
    "\n",
    "#tavily\n",
    "from tavily import TavilyClient\n",
    "from langchain_community.tools.tavily_search import TavilySearchResults\n",
    "\n",
    "#tools\n",
    "from langchain.agents import initialize_agent, Tool, load_tools\n",
    "from langchain.tools import BaseTool\n",
    "from langchain_community.document_loaders import WebBaseLoader\n",
    "from langchain_community.vectorstores import FAISS\n",
    "from langchain_text_splitters import RecursiveCharacterTextSplitter\n",
    "from langchain.document_loaders import DirectoryLoader, CSVLoader\n",
    "from langchain.tools.retriever import create_retriever_tool\n",
    "from langchain_core.tools import Tool\n",
    "from langchain_experimental.utilities import PythonREPL\n",
    "\n",
    "#agent\n",
    "from langchain.agents import create_tool_calling_agent, AgentType\n",
    "from langchain.agents import AgentExecutor\n",
    "from langchain.chat_models import ChatOpenAI"
   ]
  },
  {
   "cell_type": "code",
   "execution_count": 53,
   "id": "3917c671-d208-47d6-9a85-6984b461f846",
   "metadata": {
    "tags": []
   },
   "outputs": [],
   "source": [
    "model_parameter = {\"temperature\": 0.0, \"top_p\": .5, \"max_tokens_to_sample\": 200}\n",
    "modelId = \"anthropic.claude-3-sonnet-20240229-v1:0\"\n",
    "bedrock_llm = ChatBedrock(\n",
    "    model_id=modelId,\n",
    "    client=boto3.client('bedrock'),\n",
    "    model_kwargs=model_parameter, \n",
    "    beta_use_converse_api=True\n",
    ")\n"
   ]
  },
  {
   "cell_type": "code",
   "execution_count": 54,
   "id": "d9237264-9eae-4a9f-80dc-d0450b1b40ab",
   "metadata": {
    "tags": []
   },
   "outputs": [],
   "source": [
    "os.environ[\"TAVILY_API_KEY\"] = \"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\"\n",
    "search = TavilySearchResults()"
   ]
  },
  {
   "cell_type": "code",
   "execution_count": 55,
   "id": "f431e2ef-16d9-4dcc-8ac7-fa2f203269f9",
   "metadata": {
    "tags": []
   },
   "outputs": [
    {
     "name": "stderr",
     "output_type": "stream",
     "text": [
      "/home/ec2-user/anaconda3/envs/python3/lib/python3.10/site-packages/langsmith/client.py:261: LangSmithMissingAPIKeyWarning: API key must be provided when using hosted LangSmith API\n",
      "  warnings.warn(\n"
     ]
    }
   ],
   "source": [
    "from langchain import hub\n",
    "\n",
    "# Get the prompt to use - you can modify this!\n",
    "prompt = hub.pull(\"hwchase17/openai-functions-agent\")\n",
    "# prompt.messages\n",
    "\n",
    "from langchain_core.prompts import ChatPromptTemplate\n",
    "\n",
    "\n",
    "system_prompt = (\n",
    "    \"\"\"You are an assistant for question-answering tasks. \n",
    "    be concise\n",
    "    \\n\\n\n",
    "    {agent_scratchpad}\n",
    "    \"context\": history\n",
    "    \"\"\"\n",
    ")\n",
    "\n",
    "prompt = ChatPromptTemplate.from_messages(\n",
    "    [\n",
    "        (\"system\", system_prompt),\n",
    "        (\"human\", \"{input},{agent_scratchpad}\"),\n",
    "    ]\n",
    ")\n"
   ]
  },
  {
   "cell_type": "code",
   "execution_count": 56,
   "id": "5f6650a2-f47d-419a-a19d-460a1f435d86",
   "metadata": {
    "tags": []
   },
   "outputs": [],
   "source": [
    "# Import necessary libraries\n",
    "# !pip install -U wikipedia\n",
    "from langchain.agents import initialize_agent, Tool, load_tools\n",
    "from langchain.tools import BaseTool\n",
    "\n",
    "loaded_tools = load_tools([\"llm-math\", \"wikipedia\"], llm=bedrock_llm)\n",
    "tools = [search,loaded_tools[0],loaded_tools[1]]\n"
   ]
  },
  {
   "cell_type": "code",
   "execution_count": 57,
   "id": "18dcfb51-6b71-48d1-b05b-b74be351c90c",
   "metadata": {
    "tags": []
   },
   "outputs": [],
   "source": [
    "from langchain.agents import create_tool_calling_agent\n",
    "from langchain.agents import AgentExecutor\n",
    "from langgraph.checkpoint.memory import MemorySaver\n",
    "\n",
    "agent = create_tool_calling_agent(bedrock_llm, tools, prompt)\n",
    "agent_executor = AgentExecutor(agent=agent, tools=tools, verbose=True)"
   ]
  },
  {
   "cell_type": "code",
   "execution_count": 58,
   "id": "2498b4b7-a3cc-4c83-86f1-0682d428739d",
   "metadata": {
    "tags": []
   },
   "outputs": [],
   "source": [
    "from langchain.memory import ChatMessageHistory\n",
    "from langchain_core.runnables.history import RunnableWithMessageHistory\n",
    "from langchain_core.runnables import RunnableLambda\n",
    "from langchain_core.runnables import ConfigurableFieldSpec\n",
    "from langchain_core.runnables import RunnablePassthrough"
   ]
  },
  {
   "cell_type": "code",
   "execution_count": 59,
   "id": "f45232f3-ba87-438c-84a2-7a98e8421eb6",
   "metadata": {
    "tags": []
   },
   "outputs": [
    {
     "name": "stdout",
     "output_type": "stream",
     "text": [
      "Requirement already satisfied: langchain-redis in /home/ec2-user/anaconda3/envs/python3/lib/python3.10/site-packages (0.1.1)\n",
      "Requirement already satisfied: langchain-openai in /home/ec2-user/anaconda3/envs/python3/lib/python3.10/site-packages (0.2.12)\n",
      "Requirement already satisfied: redis in /home/ec2-user/anaconda3/envs/python3/lib/python3.10/site-packages (5.2.1)\n",
      "Requirement already satisfied: langchain-core<0.4,>=0.3 in /home/ec2-user/anaconda3/envs/python3/lib/python3.10/site-packages (from langchain-redis) (0.3.24)\n",
      "Requirement already satisfied: numpy<2,>=1 in /home/ec2-user/anaconda3/envs/python3/lib/python3.10/site-packages (from langchain-redis) (1.26.4)\n",
      "Requirement already satisfied: python-ulid<3.0.0,>=2.7.0 in /home/ec2-user/anaconda3/envs/python3/lib/python3.10/site-packages (from langchain-redis) (2.7.0)\n",
      "Requirement already satisfied: redisvl<0.4.0,>=0.3.5 in /home/ec2-user/anaconda3/envs/python3/lib/python3.10/site-packages (from langchain-redis) (0.3.7)\n",
      "Requirement already satisfied: openai<2.0.0,>=1.55.3 in /home/ec2-user/anaconda3/envs/python3/lib/python3.10/site-packages (from langchain-openai) (1.57.3)\n",
      "Requirement already satisfied: tiktoken<1,>=0.7 in /home/ec2-user/anaconda3/envs/python3/lib/python3.10/site-packages (from langchain-openai) (0.8.0)\n",
      "Requirement already satisfied: async-timeout>=4.0.3 in /home/ec2-user/anaconda3/envs/python3/lib/python3.10/site-packages (from redis) (4.0.3)\n",
      "Requirement already satisfied: PyYAML>=5.3 in /home/ec2-user/anaconda3/envs/python3/lib/python3.10/site-packages (from langchain-core<0.4,>=0.3->langchain-redis) (6.0.2)\n",
      "Requirement already satisfied: jsonpatch<2.0,>=1.33 in /home/ec2-user/anaconda3/envs/python3/lib/python3.10/site-packages (from langchain-core<0.4,>=0.3->langchain-redis) (1.33)\n",
      "Requirement already satisfied: langsmith<0.3,>=0.1.125 in /home/ec2-user/anaconda3/envs/python3/lib/python3.10/site-packages (from langchain-core<0.4,>=0.3->langchain-redis) (0.2.3)\n",
      "Requirement already satisfied: packaging<25,>=23.2 in /home/ec2-user/anaconda3/envs/python3/lib/python3.10/site-packages (from langchain-core<0.4,>=0.3->langchain-redis) (24.2)\n",
      "Requirement already satisfied: pydantic<3.0.0,>=2.5.2 in /home/ec2-user/anaconda3/envs/python3/lib/python3.10/site-packages (from langchain-core<0.4,>=0.3->langchain-redis) (2.10.3)\n",
      "Requirement already satisfied: tenacity!=8.4.0,<10.0.0,>=8.1.0 in /home/ec2-user/anaconda3/envs/python3/lib/python3.10/site-packages (from langchain-core<0.4,>=0.3->langchain-redis) (9.0.0)\n",
      "Requirement already satisfied: typing-extensions>=4.7 in /home/ec2-user/anaconda3/envs/python3/lib/python3.10/site-packages (from langchain-core<0.4,>=0.3->langchain-redis) (4.12.2)\n",
      "Requirement already satisfied: anyio<5,>=3.5.0 in /home/ec2-user/anaconda3/envs/python3/lib/python3.10/site-packages (from openai<2.0.0,>=1.55.3->langchain-openai) (4.6.2.post1)\n",
      "Requirement already satisfied: distro<2,>=1.7.0 in /home/ec2-user/anaconda3/envs/python3/lib/python3.10/site-packages (from openai<2.0.0,>=1.55.3->langchain-openai) (1.9.0)\n",
      "Requirement already satisfied: httpx<1,>=0.23.0 in /home/ec2-user/anaconda3/envs/python3/lib/python3.10/site-packages (from openai<2.0.0,>=1.55.3->langchain-openai) (0.27.2)\n",
      "Requirement already satisfied: jiter<1,>=0.4.0 in /home/ec2-user/anaconda3/envs/python3/lib/python3.10/site-packages (from openai<2.0.0,>=1.55.3->langchain-openai) (0.8.2)\n",
      "Requirement already satisfied: sniffio in /home/ec2-user/anaconda3/envs/python3/lib/python3.10/site-packages (from openai<2.0.0,>=1.55.3->langchain-openai) (1.3.1)\n",
      "Requirement already satisfied: tqdm>4 in /home/ec2-user/anaconda3/envs/python3/lib/python3.10/site-packages (from openai<2.0.0,>=1.55.3->langchain-openai) (4.67.0)\n",
      "Requirement already satisfied: coloredlogs in /home/ec2-user/anaconda3/envs/python3/lib/python3.10/site-packages (from redisvl<0.4.0,>=0.3.5->langchain-redis) (15.0.1)\n",
      "Requirement already satisfied: ml-dtypes<0.5.0,>=0.4.0 in /home/ec2-user/anaconda3/envs/python3/lib/python3.10/site-packages (from redisvl<0.4.0,>=0.3.5->langchain-redis) (0.4.1)\n",
      "Requirement already satisfied: tabulate<1,>=0.9.0 in /home/ec2-user/anaconda3/envs/python3/lib/python3.10/site-packages (from redisvl<0.4.0,>=0.3.5->langchain-redis) (0.9.0)\n",
      "Requirement already satisfied: regex>=2022.1.18 in /home/ec2-user/anaconda3/envs/python3/lib/python3.10/site-packages (from tiktoken<1,>=0.7->langchain-openai) (2024.11.6)\n",
      "Requirement already satisfied: requests>=2.26.0 in /home/ec2-user/anaconda3/envs/python3/lib/python3.10/site-packages (from tiktoken<1,>=0.7->langchain-openai) (2.32.3)\n",
      "Requirement already satisfied: idna>=2.8 in /home/ec2-user/anaconda3/envs/python3/lib/python3.10/site-packages (from anyio<5,>=3.5.0->openai<2.0.0,>=1.55.3->langchain-openai) (3.10)\n",
      "Requirement already satisfied: exceptiongroup>=1.0.2 in /home/ec2-user/anaconda3/envs/python3/lib/python3.10/site-packages (from anyio<5,>=3.5.0->openai<2.0.0,>=1.55.3->langchain-openai) (1.2.2)\n",
      "Requirement already satisfied: certifi in /home/ec2-user/anaconda3/envs/python3/lib/python3.10/site-packages (from httpx<1,>=0.23.0->openai<2.0.0,>=1.55.3->langchain-openai) (2024.8.30)\n",
      "Requirement already satisfied: httpcore==1.* in /home/ec2-user/anaconda3/envs/python3/lib/python3.10/site-packages (from httpx<1,>=0.23.0->openai<2.0.0,>=1.55.3->langchain-openai) (1.0.6)\n",
      "Requirement already satisfied: h11<0.15,>=0.13 in /home/ec2-user/anaconda3/envs/python3/lib/python3.10/site-packages (from httpcore==1.*->httpx<1,>=0.23.0->openai<2.0.0,>=1.55.3->langchain-openai) (0.14.0)\n",
      "Requirement already satisfied: jsonpointer>=1.9 in /home/ec2-user/anaconda3/envs/python3/lib/python3.10/site-packages (from jsonpatch<2.0,>=1.33->langchain-core<0.4,>=0.3->langchain-redis) (3.0.0)\n",
      "Requirement already satisfied: orjson<4.0.0,>=3.9.14 in /home/ec2-user/anaconda3/envs/python3/lib/python3.10/site-packages (from langsmith<0.3,>=0.1.125->langchain-core<0.4,>=0.3->langchain-redis) (3.10.12)\n",
      "Requirement already satisfied: requests-toolbelt<2.0.0,>=1.0.0 in /home/ec2-user/anaconda3/envs/python3/lib/python3.10/site-packages (from langsmith<0.3,>=0.1.125->langchain-core<0.4,>=0.3->langchain-redis) (1.0.0)\n",
      "Requirement already satisfied: annotated-types>=0.6.0 in /home/ec2-user/anaconda3/envs/python3/lib/python3.10/site-packages (from pydantic<3.0.0,>=2.5.2->langchain-core<0.4,>=0.3->langchain-redis) (0.7.0)\n",
      "Requirement already satisfied: pydantic-core==2.27.1 in /home/ec2-user/anaconda3/envs/python3/lib/python3.10/site-packages (from pydantic<3.0.0,>=2.5.2->langchain-core<0.4,>=0.3->langchain-redis) (2.27.1)\n",
      "Requirement already satisfied: charset-normalizer<4,>=2 in /home/ec2-user/anaconda3/envs/python3/lib/python3.10/site-packages (from requests>=2.26.0->tiktoken<1,>=0.7->langchain-openai) (3.4.0)\n",
      "Requirement already satisfied: urllib3<3,>=1.21.1 in /home/ec2-user/anaconda3/envs/python3/lib/python3.10/site-packages (from requests>=2.26.0->tiktoken<1,>=0.7->langchain-openai) (2.2.3)\n",
      "Requirement already satisfied: humanfriendly>=9.1 in /home/ec2-user/anaconda3/envs/python3/lib/python3.10/site-packages (from coloredlogs->redisvl<0.4.0,>=0.3.5->langchain-redis) (10.0)\n",
      "7bf6b93573f8222eddc6bec0ed2ee422ec7fb0675c5c50e7d7a80ea8267eff18\n",
      "docker: Error response from daemon: driver failed programming external connectivity on endpoint cool_villani (fffcff78a5693300002dab80ceff895886ec19314d43937e35c4b4f2f89f3b84): Bind for 0.0.0.0:6379 failed: port is already allocated.\n"
     ]
    }
   ],
   "source": [
    "!pip install langchain-redis langchain-openai redis\n",
    "from langchain_community.chat_message_histories.redis import RedisChatMessageHistory\n",
    "!docker run -d -p 6379:6379 redis:latest"
   ]
  },
  {
   "cell_type": "code",
   "execution_count": 60,
   "id": "0062db6d-a71f-4065-b2f7-0c569ae960a9",
   "metadata": {
    "tags": []
   },
   "outputs": [
    {
     "name": "stdout",
     "output_type": "stream",
     "text": [
      "AI Response1: The current population of Canada is around 38.25 million as of 2022 estimates.\n",
      "\n",
      "Some additional details about Canada's population:\n",
      "\n",
      "- Canada is the 38th most populous country in the world.\n",
      "\n",
      "- The most populous province is Ontario with about 14.8 million people, followed by Quebec with around 8.6 million.\n",
      "\n",
      "- Around 86% of Canadians live in urban areas, making Canada one of the most urbanized countries in the world.\n",
      "\n",
      "- The largest metropolitan area is Toronto with over 6.2 million residents.\n",
      "\n",
      "- Canada has an aging population, with a median age of around 41 years old.\n",
      "\n",
      "- Immigration is a major driver of Canada's population growth, with over 300,000 new permanent residents admitted annually in recent years.\n",
      "\n",
      "So in summary, while not an extremely populous nation globally, Canada has a sizeable population concentrated mainly in urban centers, especially in the provinces of Ontario and Quebec.\n",
      "AI Response2: The national anthem of Canada is \"O Canada\".\n",
      "\n",
      "Here are some key details about the Canadian national anthem:\n",
      "\n",
      "- The lyrics were originally written in French by Sir Adolphe-Basile Routhier in 1880. The English lyrics are a translation.\n",
      "\n",
      "- The music was composed by Calixa Lavallée.\n",
      "\n",
      "- It was first performed in 1880 in Quebec City.\n",
      "\n",
      "- The English lyrics were written by Robert Stanley Weir in 1908.\n",
      "\n",
      "- It became Canada's official national anthem on July 1, 1980, after serving as a de facto national anthem for many years.\n",
      "\n",
      "- The opening lines in English are: \"O Canada! Our home and native land! True patriot love in all of us command.\"\n",
      "\n",
      "- It refers to Canada as the \"True North strong and free\" in both English and French versions.\n",
      "\n",
      "So in summary, \"O Canada\" has been an important patriotic symbol and unifying song for Canadians for over 100 years before becoming the official anthem in 1980. Its lyrics celebrate the Canadian homeland and call for patriotism.\n"
     ]
    }
   ],
   "source": [
    "# Replace with your Redis server URL and session ID\n",
    "redis_url = \"redis://localhost:6379/0\"\n",
    "session_id = \"foo\"\n",
    "\n",
    "# Initialize RedisChatMessageHistory\n",
    "history = RedisChatMessageHistory(session_id=session_id, url=redis_url)\n",
    "\n",
    "from langchain_core.prompts import ChatPromptTemplate, MessagesPlaceholder\n",
    "from langchain_core.runnables.history import RunnableWithMessageHistory\n",
    "from langchain_core.chat_history import BaseChatMessageHistory\n",
    "\n",
    "# Create a prompt template\n",
    "prompt = ChatPromptTemplate.from_messages(\n",
    "    [\n",
    "        (\"system\", \"You are a helpful AI assistant.\"),\n",
    "        MessagesPlaceholder(variable_name=\"history\"),\n",
    "        (\"human\", \"{input}\"),\n",
    "    ]\n",
    ")\n",
    "\n",
    "# Initialize the language model\n",
    "llm = bedrock_llm\n",
    "\n",
    "# Create the conversational chain\n",
    "chain = prompt | llm\n",
    "\n",
    "# Function to get or create a RedisChatMessageHistory instance\n",
    "def get_redis_history(session_id: str) -> BaseChatMessageHistory:\n",
    "    return RedisChatMessageHistory(session_id, redis_url)\n",
    "\n",
    "# Create a runnable with message history\n",
    "agent_with_chat_history = RunnableWithMessageHistory(\n",
    "    chain,\n",
    "    get_redis_history, \n",
    "    input_messages_key=\"input\", \n",
    "    history_messages_key=\"history\"\n",
    ")\n",
    "\n",
    "response1 = agent_with_chat_history.invoke(\n",
    "    {\"input\": \"What's the population of Canada?\"},\n",
    "    config={\"configurable\": {\"session_id\": session_id}},\n",
    ")\n",
    "\n",
    "print(\"AI Response1:\", response1.content)\n",
    "\n",
    "\n",
    "response2 = agent_with_chat_history.invoke(\n",
    "    {\"input\": \"What is their anthem?\"},\n",
    "    config={\"configurable\": {\"session_id\": session_id}},\n",
    ")\n",
    "\n",
    "print(\"AI Response2:\", response2.content)"
   ]
  },
  {
   "cell_type": "code",
   "execution_count": null,
   "id": "abb9494e-e9e8-491d-a98d-016070fa45b4",
   "metadata": {},
   "outputs": [],
   "source": []
  },
  {
   "cell_type": "code",
   "execution_count": null,
   "id": "1e29ef12-28bc-46b7-93ef-5be3933e9a05",
   "metadata": {},
   "outputs": [],
   "source": []
  }
 ],
 "metadata": {
  "kernelspec": {
   "display_name": "conda_python3",
   "language": "python",
   "name": "conda_python3"
  },
  "language_info": {
   "codemirror_mode": {
    "name": "ipython",
    "version": 3
   },
   "file_extension": ".py",
   "mimetype": "text/x-python",
   "name": "python",
   "nbconvert_exporter": "python",
   "pygments_lexer": "ipython3",
   "version": "3.10.15"
  }
 },
 "nbformat": 4,
 "nbformat_minor": 5
}
