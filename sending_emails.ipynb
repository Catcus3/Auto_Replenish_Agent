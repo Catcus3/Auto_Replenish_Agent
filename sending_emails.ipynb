{
 "cells": [
  {
   "cell_type": "markdown",
   "id": "21faa523-2dfa-49e9-84cc-106097d92a69",
   "metadata": {
    "tags": []
   },
   "source": [
    "## import libraries"
   ]
  },
  {
   "cell_type": "markdown",
   "id": "42b2fdf4-13a2-4695-b124-20da4557e43c",
   "metadata": {
    "jp-MarkdownHeadingCollapsed": true,
    "tags": []
   },
   "source": [
    "### pip install"
   ]
  },
  {
   "cell_type": "code",
   "execution_count": 12,
   "id": "7e225112-c12c-4efb-86ed-dacbbe299d8b",
   "metadata": {},
   "outputs": [],
   "source": [
    "#pip install\n",
    "!pip install faiss-gpu --quiet\n",
    "!pip install boto3 --quiet\n",
    "!pip install langchain-aws --quiet\n",
    "!pip install langchain-community boto3 --quiet\n",
    "!pip install boto3 requests requests-aws4auth --quiet\n",
    "!pip install pymongo --quiet\n",
    "!pip install google-search-results sagemaker --quiet\n",
    "!pip install boto3 nltk --quiet\n",
    "!pip install wikipedia --quiet\n",
    "!pip install tavily-python --quiet\n",
    "!pip install --upgrade langchain sympy numexpr --quiet\n",
    "!pip install langchain-experimental --quiet\n",
    "!pip install -U langgraph langchain_community langchain_anthropic langchain_experimental --quiet\n",
    "!pip install langchain-redis langchain-openai redis --quiet\n",
    "#!docker run -d -p 6379:6379 redis:latest --quiet"
   ]
  },
  {
   "cell_type": "markdown",
   "id": "07d068f9-5ea7-4f99-8fc6-564e0baddabd",
   "metadata": {
    "jp-MarkdownHeadingCollapsed": true,
    "tags": []
   },
   "source": [
    "### libraries"
   ]
  },
  {
   "cell_type": "code",
   "execution_count": 13,
   "id": "c8058994-f18c-4091-a948-0cefd9949786",
   "metadata": {
    "tags": []
   },
   "outputs": [
    {
     "name": "stderr",
     "output_type": "stream",
     "text": [
      "USER_AGENT environment variable not set, consider setting it to identify your requests.\n"
     ]
    }
   ],
   "source": [
    "import boto3\n",
    "import os\n",
    "from langchain import hub\n",
    "\n",
    "#chat models\n",
    "from langchain_aws import ChatBedrock\n",
    "from langchain_aws import ChatBedrockConverse\n",
    "\n",
    "#LLMs\n",
    "from langchain_aws import BedrockLLM\n",
    "from langchain_community.llms import AmazonAPIGateway\n",
    "from langchain_aws import SagemakerEndpoint\n",
    "\n",
    "#prompts\n",
    "from langchain.prompts import PromptTemplate\n",
    "\n",
    "#embedding models\n",
    "from langchain_aws import BedrockEmbeddings\n",
    "# from langchain_community.embeddings import BedrockEmbeddings\n",
    "from langchain_community.embeddings import SagemakerEndpointEmbeddings\n",
    "from langchain_community.llms.sagemaker_endpoint import ContentHandlerBase\n",
    "\n",
    "#document loaders\n",
    "from langchain_community.document_loaders import S3DirectoryLoader, S3FileLoader\n",
    "from langchain_community.document_loaders import AmazonTextractPDFLoader\n",
    "\n",
    "#vector stores\n",
    "from langchain_community.vectorstores import OpenSearchVectorSearch\n",
    "from langchain_community.vectorstores import DocumentDBVectorSearch\n",
    "\n",
    "from langchain_aws.vectorstores.inmemorydb import InMemoryVectorStore\n",
    "\n",
    "#retrievers\n",
    "from langchain_aws import AmazonKendraRetriever\n",
    "from langchain_aws import AmazonKnowledgeBasesRetriever\n",
    "\n",
    "#memory\n",
    "from langchain_community.chat_message_histories import DynamoDBChatMessageHistory\n",
    "from langchain_community.chat_message_histories.redis import RedisChatMessageHistory\n",
    "from langchain.memory import ChatMessageHistory\n",
    "from langchain_core.runnables.history import RunnableWithMessageHistory\n",
    "from langchain_core.runnables import RunnableLambda\n",
    "from langchain_core.runnables import ConfigurableFieldSpec\n",
    "from langchain_core.runnables import RunnablePassthrough\n",
    "\n",
    "#graphs\n",
    "from langchain_community.graphs import NeptuneGraph\n",
    "from langchain_community.graphs import NeptuneAnalyticsGraph\n",
    "from langchain_community.chains.graph_qa.neptune_cypher import NeptuneOpenCypherQAChain\n",
    "\n",
    "from langchain_community.graphs import NeptuneRdfGraph\n",
    "from langchain_community.chains.graph_qa.neptune_sparql import NeptuneSparqlQAChain\n",
    "\n",
    "#callbacks\n",
    "from langchain_community.callbacks.bedrock_anthropic_callback import BedrockAnthropicTokenUsageCallbackHandler\n",
    "from langchain_community.callbacks import SageMakerCallbackHandler\n",
    "\n",
    "#chains\n",
    "# from langchain_experimental.comprehend_moderation import AmazonComprehendModerationChain\n",
    "\n",
    "#tavily\n",
    "from tavily import TavilyClient\n",
    "from langchain_community.tools.tavily_search import TavilySearchResults\n",
    "\n",
    "#tools\n",
    "from langchain.agents import initialize_agent, Tool, load_tools\n",
    "from langchain.tools import BaseTool\n",
    "from langchain_community.document_loaders import WebBaseLoader\n",
    "from langchain_community.vectorstores import FAISS\n",
    "from langchain_text_splitters import RecursiveCharacterTextSplitter\n",
    "from langchain.document_loaders import DirectoryLoader, CSVLoader\n",
    "from langchain.tools.retriever import create_retriever_tool\n",
    "from langchain_core.tools import Tool\n",
    "from langchain_experimental.utilities import PythonREPL\n",
    "\n",
    "#agent\n",
    "from langchain.agents import create_tool_calling_agent, AgentType\n",
    "from langchain.agents import AgentExecutor\n",
    "from langchain.chat_models import ChatOpenAI"
   ]
  },
  {
   "cell_type": "markdown",
   "id": "0ea6f714-acc1-4ef3-9382-b7d51736a8c0",
   "metadata": {
    "tags": []
   },
   "source": [
    "## setup agent"
   ]
  },
  {
   "cell_type": "markdown",
   "id": "d71bcaad-be79-4c36-a288-4a7b06bac3b1",
   "metadata": {
    "tags": []
   },
   "source": [
    "### setup llm"
   ]
  },
  {
   "cell_type": "code",
   "execution_count": 14,
   "id": "258077e7-1dc8-40f4-84b9-66f19ea85152",
   "metadata": {
    "tags": []
   },
   "outputs": [],
   "source": [
    "model_parameter = {\"temperature\": 0.9, \"top_p\": .5, \"max_tokens_to_sample\": 200}\n",
    "modelId = \"anthropic.claude-3-sonnet-20240229-v1:0\"\n",
    "bedrock_llm = ChatBedrock(\n",
    "    model_id=modelId,\n",
    "    client=boto3.client('bedrock'),\n",
    "    model_kwargs=model_parameter, \n",
    "    beta_use_converse_api=True\n",
    ")"
   ]
  },
  {
   "cell_type": "code",
   "execution_count": 15,
   "id": "9d500b9b-3eb3-4fa5-bcec-e3096fb5c4ac",
   "metadata": {
    "tags": []
   },
   "outputs": [],
   "source": [
    "embeddings = BedrockEmbeddings(\n",
    "    client=boto3.client('bedrock-runtime', region_name=\"us-east-1\"),\n",
    "    model_id = \"amazon.titan-embed-text-v2:0\"\n",
    ")"
   ]
  },
  {
   "cell_type": "markdown",
   "id": "41b38d85-b340-4e1a-9629-19c74cd53d5c",
   "metadata": {
    "tags": []
   },
   "source": [
    "### initiate tools"
   ]
  },
  {
   "cell_type": "code",
   "execution_count": 16,
   "id": "b8c5e45e-cca8-4d23-929f-6fb03f25f505",
   "metadata": {
    "tags": []
   },
   "outputs": [],
   "source": [
    "os.environ[\"TAVILY_API_KEY\"] = \"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\"\n",
    "search = TavilySearchResults()"
   ]
  },
  {
   "cell_type": "code",
   "execution_count": 17,
   "id": "3b88c4be-cd48-406b-9e1c-e7d031236b12",
   "metadata": {
    "tags": []
   },
   "outputs": [],
   "source": [
    "prompt = PromptTemplate(\n",
    "    input_variables=[\"input\", \"agent_scratchpad\"],  # Include both input and agent_scratchpad\n",
    "    template=\"\"\"\n",
    "    \n",
    "If the input is to do with retail or an item to buy, do the following:\n",
    "\n",
    "Use the retriever tool to answer any queries related to internal data files. \n",
    "Only use external tools (like Wikipedia) if no relevant information is found internally.\n",
    "When asked about a specific item output the answers to the following queries: \n",
    "\n",
    "Should this item be ordered? \n",
    "Find out what date it is currently using date time tool. Convert the month and year into strings and use these for the rest of the answer.\n",
    "Use recent stock statistics to see if the stocks for this month are low compared to how much was used last month.\n",
    "Use the statistics from last year to predict how much of each item will be needed for the rest of this month and next month.\n",
    "Use what month it is at the time the call is being made and whether any important holidays eg christmas or summer will be coming up and use this information in your decision.\n",
    "a) how much should be ordered for this month and next month\n",
    "b) how much should be ordered in the next few months\n",
    "\n",
    "\n",
    "What brand?\n",
    "Use the customers reviews to decide this. \n",
    "\n",
    "If this item should be ordered, how much of this item should be ordered?\n",
    "Use the repl tool to calculate these numbers.\n",
    "\n",
    "In your final output:\n",
    "1. Explain your reasoning for whether an item should be ordered and how much.\n",
    "Don't explain your reasoning for\n",
    "Explain the maths you used.\n",
    "2. Draft an email to an imaginary supplier of this brand to order the number of the item you think should be ordered, signing off as Reply Auto Replenishment.\n",
    "\n",
    "Else:\n",
    "Answer the question appropriately using multiple tools to verify your answer\n",
    "\n",
    "Query: {input}\n",
    "\n",
    "{agent_scratchpad}\n",
    "\"\"\"\n",
    ")\n"
   ]
  },
  {
   "cell_type": "code",
   "execution_count": 18,
   "id": "3e482e00-4c73-49f5-94b1-b13b7b88361c",
   "metadata": {
    "tags": []
   },
   "outputs": [],
   "source": [
    "# Define the path to the directory containing CSV files\n",
    "data_files_directory = \"data_files\"\n",
    "\n",
    "# Use DirectoryLoader to load all CSV files\n",
    "loader = DirectoryLoader(\n",
    "    data_files_directory,\n",
    "    glob=\"**/*.csv\",  # Match all CSV files in the directory (including subdirectories)\n",
    "    loader_cls=CSVLoader  # Use CSVLoader for parsing the files\n",
    ")"
   ]
  },
  {
   "cell_type": "code",
   "execution_count": 19,
   "id": "e266e2be-ed6b-469b-8d4c-8e383a6568ec",
   "metadata": {
    "tags": []
   },
   "outputs": [],
   "source": [
    "docs = loader.load()\n",
    "documents = RecursiveCharacterTextSplitter(\n",
    "    chunk_size=1000, chunk_overlap=200\n",
    ").split_documents(docs)\n",
    "vector = FAISS.from_documents(documents, embeddings)\n",
    "retriever = vector.as_retriever()\n",
    "\n",
    "retriever_tool = create_retriever_tool(\n",
    "    retriever,\n",
    "    \"Retriever_tool\",\n",
    "    \"First search internal data files to answer any queries. If there is no useful information then use other tools.\",\n",
    ")"
   ]
  },
  {
   "cell_type": "code",
   "execution_count": 20,
   "id": "9a2de580-b4be-4041-99e8-9be9077d7af7",
   "metadata": {
    "tags": []
   },
   "outputs": [],
   "source": [
    "#datetime tool\n",
    "from datetime import datetime\n",
    "datetime_tool = Tool(\n",
    "    name=\"Datetime\",\n",
    "    func=lambda x: datetime.now().isoformat(),\n",
    "    description=\"Returns the current datetime\",\n",
    ")\n"
   ]
  },
  {
   "cell_type": "code",
   "execution_count": 21,
   "id": "77b775d9-f568-4b0e-a7de-99a4cbbfaf9f",
   "metadata": {
    "tags": []
   },
   "outputs": [],
   "source": [
    "#loading in tools\n",
    "\n",
    "python_repl = PythonREPL()\n",
    "repl_tool = Tool(\n",
    "    name=\"python_repl\",\n",
    "    description=\"Use this to execute python commands and calculations.\",\n",
    "    func=python_repl.run,\n",
    ")\n",
    "wikipedia_tool = load_tools([\"wikipedia\"], llm=bedrock_llm)\n",
    "\n"
   ]
  },
  {
   "cell_type": "code",
   "execution_count": 56,
   "id": "b1449c0c-e2dc-45c6-ba9d-34c7109da328",
   "metadata": {
    "tags": []
   },
   "outputs": [],
   "source": [
    "def write_email(recipient,my_name,subject,text,html):\n",
    "    data = {\n",
    "        'FromEmail': 'sneville1313@gmail.com',\n",
    "        'FromName': my_name,\n",
    "        'Subject': subject,\n",
    "        'Text-part': text,\n",
    "        'Html-part': html,\n",
    "        'Recipients': [{'Email': recipient}]\n",
    "}\n",
    "    result = mailjet.send.create(data=data)\n",
    "    print(result.status_code)\n",
    "    print(result.json())\n",
    "    \n",
    "writing_email_tool = Tool(\n",
    "    name=\"Send Email\",\n",
    "    func=lambda args: write_email(\n",
    "        recipient=args.get(\"recipient\"),\n",
    "        my_name=args.get(\"my_name\"),\n",
    "        subject=args.get(\"subject\"),\n",
    "        text=args.get(\"text\"),\n",
    "        html=args.get(\"html\")\n",
    "    ),\n",
    "    description=\"Sends an email to a specified recipient. Parameters: recipient (str), my_name (str), subject (str), text (str), html (str).\"\n",
    ")"
   ]
  },
  {
   "cell_type": "code",
   "execution_count": 46,
   "id": "60609493-41d1-473e-b1ef-b6ea3a0b3023",
   "metadata": {
    "tags": []
   },
   "outputs": [],
   "source": [
    "tools = [datetime_tool,retriever_tool,search,repl_tool,wikipedia_tool[0],writing_email_tool]"
   ]
  },
  {
   "cell_type": "markdown",
   "id": "87079bfa-1a0a-4949-a9b9-df221344c39e",
   "metadata": {
    "tags": []
   },
   "source": [
    "## running agent"
   ]
  },
  {
   "cell_type": "markdown",
   "id": "b57eef81-8d36-4593-bef3-dd087c1cabcc",
   "metadata": {
    "tags": []
   },
   "source": [
    "### general agent"
   ]
  },
  {
   "cell_type": "code",
   "execution_count": 22,
   "id": "c3dd0fbd-e8dd-46c3-a2ca-ee4a5e3ecc39",
   "metadata": {
    "tags": []
   },
   "outputs": [],
   "source": [
    "def run_agent(prompt,agent_input,raw_list,verbose_setting):\n",
    "    agent = create_tool_calling_agent(bedrock_llm, tools, prompt)\n",
    "    agent_executor = AgentExecutor(agent=agent, tools=tools, verbose=verbose_setting,handle_parsing_errors=True)\n",
    "    response = agent_executor.invoke({\"input\": agent_input})\n",
    "    raw_output = response['output'][0]['text']\n",
    "    raw_list.append(raw_output)"
   ]
  },
  {
   "cell_type": "code",
   "execution_count": 23,
   "id": "737112a7-f19d-46e7-8d17-a8fa4fc8c798",
   "metadata": {
    "tags": []
   },
   "outputs": [
    {
     "name": "stdout",
     "output_type": "stream",
     "text": [
      "\n",
      "\n",
      "\u001b[1m> Entering new AgentExecutor chain...\u001b[0m\n",
      "\u001b[32;1m\u001b[1;3m\n",
      "Invoking: `Retriever_tool` with `{'query': 'christmas pudding'}`\n",
      "responded: [{'type': 'tool_use', 'name': 'Retriever_tool', 'id': 'tooluse_AJ0H4CQHRou0qOTEtTRI1A', 'index': 0, 'input': '{\"query\": \"christmas pudding\"}'}]\n",
      "\n",
      "\u001b[0m\u001b[33;1m\u001b[1;3mItem: Christmas Pudding\n",
      "Jan: 0\n",
      "Feb: 0\n",
      "Mar: 0\n",
      "Apr: 0\n",
      "May: 0\n",
      "Jun: 0\n",
      "Jul: 0\n",
      "Aug: 0\n",
      "Sep: 0\n",
      "Oct: 0\n",
      "Nov: 0\n",
      "Dec: 20\n",
      "Brand_A_Jan: 0\n",
      "Brand_A_Feb: 0\n",
      "Brand_A_Mar: 0\n",
      "Brand_A_Apr: 0\n",
      "Brand_A_May: 0\n",
      "Brand_A_Jun: 0\n",
      "Brand_A_Jul: 0\n",
      "Brand_A_Aug: 0\n",
      "Brand_A_Sep: 0\n",
      "Brand_A_Oct: 0\n",
      "Brand_A_Nov: 0\n",
      "Brand_A_Dec: 12\n",
      "Brand_B_Jan: 0\n",
      "Brand_B_Feb: 0\n",
      "Brand_B_Mar: 0\n",
      "Brand_B_Apr: 0\n",
      "Brand_B_May: 0\n",
      "Brand_B_Jun: 0\n",
      "Brand_B_Jul: 0\n",
      "Brand_B_Aug: 0\n",
      "Brand_B_Sep: 0\n",
      "Brand_B_Oct: 0\n",
      "Brand_B_Nov: 0\n",
      "Brand_B_Dec: 8\n",
      "Brand_C_Jan: 0\n",
      "Brand_C_Feb: 0\n",
      "Brand_C_Mar: 0\n",
      "Brand_C_Apr: 0\n",
      "Brand_C_May: 0\n",
      "Brand_C_Jun: 0\n",
      "Brand_C_Jul: 0\n",
      "Brand_C_Aug: 0\n",
      "Brand_C_Sep: 0\n",
      "Brand_C_Oct: 0\n",
      "Brand_C_Nov: 0\n",
      "Brand_C_Dec: 0\n",
      "\n",
      "Item: Christmas Pudding\n",
      "Used_Last_Month: 5\n",
      "Left_This_Month: 2\n",
      "Brand_A_Used_Last_Month: 3\n",
      "Brand_A_Left_This_Month: 0\n",
      "Brand_B_Used_Last_Month: 1\n",
      "Brand_B_Left_This_Month: 2\n",
      "Brand_C_Used_Last_Month: 1\n",
      "Brand_C_Left_This_Month: 0\n",
      "\n",
      "Item: Christmas Pudding\n",
      "Brand_A: [\"Not sure I'd buy it again.\", 'Could have been better in some ways.', 'A bit disappointing compared to others.', 'Not quite what I hoped for.', 'Had some issues, not thrilled.']\n",
      "Brand_B: ['Decent for the price.', 'It was okay, nothing special.', 'Met my expectations, no more, no less.', 'An average experience overall.', 'Not bad, but could improve.']\n",
      "Brand_C: ['An average experience overall.', 'Decent for the price.', 'It was okay, nothing special.', 'Met my expectations, no more, no less.', 'Not bad, but could improve.']\n",
      "\n",
      "Item: Bread\n",
      "Jan: 71\n",
      "Feb: 34\n",
      "Mar: 91\n",
      "Apr: 80\n",
      "May: 40\n",
      "Jun: 94\n",
      "Jul: 94\n",
      "Aug: 43\n",
      "Sep: 22\n",
      "Oct: 41\n",
      "Nov: 72\n",
      "Dec: 21\n",
      "Brand_A_Jan: 26\n",
      "Brand_A_Feb: 30\n",
      "Brand_A_Mar: 16\n",
      "Brand_A_Apr: 51\n",
      "Brand_A_May: 3\n",
      "Brand_A_Jun: 62\n",
      "Brand_A_Jul: 82\n",
      "Brand_A_Aug: 26\n",
      "Brand_A_Sep: 5\n",
      "Brand_A_Oct: 7\n",
      "Brand_A_Nov: 67\n",
      "Brand_A_Dec: 13\n",
      "Brand_B_Jan: 51\n",
      "Brand_B_Feb: 6\n",
      "Brand_B_Mar: 67\n",
      "Brand_B_Apr: 78\n",
      "Brand_B_May: 27\n",
      "Brand_B_Jun: 42\n",
      "Brand_B_Jul: 67\n",
      "Brand_B_Aug: 10\n",
      "Brand_B_Sep: 17\n",
      "Brand_B_Oct: 2\n",
      "Brand_B_Nov: 9\n",
      "Brand_B_Dec: 8\n",
      "Brand_C_Jan: 0\n",
      "Brand_C_Feb: 0\n",
      "Brand_C_Mar: 8\n",
      "Brand_C_Apr: 0\n",
      "Brand_C_May: 10\n",
      "Brand_C_Jun: 0\n",
      "Brand_C_Jul: 0\n",
      "Brand_C_Aug: 7\n",
      "Brand_C_Sep: 0\n",
      "Brand_C_Oct: 32\n",
      "Brand_C_Nov: 0\n",
      "Brand_C_Dec: 0\u001b[0m\u001b[32;1m\u001b[1;3m\n",
      "Invoking: `Datetime` with `{'Arg1': 'Get current datetime'}`\n",
      "responded: [{'type': 'tool_use', 'name': 'Datetime', 'id': 'tooluse_Rv9eXx6_TKWAHfXjPGh3Ng', 'index': 0, 'input': '{\"Arg1\": \"Get current datetime\"}'}]\n",
      "\n",
      "\u001b[0m\u001b[36;1m\u001b[1;3m2024-12-12T15:54:35.110485\u001b[0m"
     ]
    },
    {
     "name": "stderr",
     "output_type": "stream",
     "text": [
      "Python REPL can execute arbitrary code. Use with caution.\n"
     ]
    },
    {
     "name": "stdout",
     "output_type": "stream",
     "text": [
      "\u001b[32;1m\u001b[1;3m\n",
      "Invoking: `python_repl` with `{'Arg1': 'dec_order = 12\\njan_order = 3\\ntotal_order = dec_order + jan_order\\nprint(f\"Order {total_order} units of Brand B Christmas pudding for Dec 2024 and Jan 2025\")'}`\n",
      "responded: [{'type': 'text', 'text': \"Here is my analysis and recommendation for ordering Christmas pudding:\\n\\nShould this item be ordered?\\nYes, Christmas pudding should be ordered based on the sales data showing demand in December.\\n\\nFind out what date it is currently using datetime tool. Convert the month and year into strings and use these for the rest of the answer.\\nThe current date is 2024-12-12. The month is December and the year is 2024.\\n\\nUse recent stock statistics to see if the stocks for this month are low compared to how much was used last month. \\nFor December 2023 (last month), 5 units of Christmas pudding were sold, with 2 units left over this month. So stocks are relatively low compared to last month's usage.\\n\\nUse the statistics from last year to predict how much of each item will be needed for the rest of this month and next month.\\nLooking at December 2022 data:\\nBrand A sold 12 units \\nBrand B sold 8 units\\nBrand C sold 0 units\\nSo based on last year, we can predict needing around 12-20 units total for this December and next month (January 2025).\\n\\nUse what month it is at the time the call is being made and whether any important holidays eg christmas or summer will be coming up and use this information in your decision.\\nSince this is December and Christmas is coming up, there will be high demand for Christmas pudding this month. January may also see some residual demand after the holidays.\\n\\na) How much should be ordered for this month and next month?\\nFor December 2024, I recommend ordering 15 units total across brands.\\nFor January 2025, I recommend ordering 5 units as a buffer.\\nSo 20 units total for December 2024 and January 2025.\\n\\nb) How much should be ordered in the next few months?\\nAfter January, demand will likely drop off significantly until next holiday season. I would not recommend ordering more than 5 units total for February-November 2025.\\n\\nWhat brand?\\nBased on the customer review data provided:\\nBrand A has mostly negative reviews \\nBrand B and Brand C have average/decent reviews\\n\\nI recommend ordering Brand B for its decent quality and reasonable price point.\\n\\nIf this item should be ordered, how much of this item should be ordered?\\nFor Brand B Christmas pudding:\\nOrder 12 units for December 2024\\nOrder 3 units for January 2025 \\nTotal of 15 units of Brand B to order\\n\\nUse the repl tool to calculate these numbers.\", 'index': 0}, {'type': 'tool_use', 'name': 'python_repl', 'id': 'tooluse_y0kMrFjERS-J8cYGm_4MGw', 'index': 1, 'input': '{\"Arg1\": \"dec_order = 12\\\\njan_order = 3\\\\ntotal_order = dec_order + jan_order\\\\nprint(f\\\\\"Order {total_order} units of Brand B Christmas pudding for Dec 2024 and Jan 2025\\\\\")\"}'}]\n",
      "\n",
      "\u001b[0m\u001b[36;1m\u001b[1;3mOrder 15 units of Brand B Christmas pudding for Dec 2024 and Jan 2025\n",
      "\u001b[0m\u001b[32;1m\u001b[1;3m[{'type': 'text', 'text': 'Here is a draft email to order Christmas pudding from a supplier:\\n\\nTo: orders@brandBpuddings.com\\nSubject: Christmas Pudding Order for December 2024 and January 2025\\n\\nDear Brand B Puddings,\\n\\nBased on analysis of our sales data and projections for the upcoming holiday season, I would like to place an order for 15 units of your Brand B Christmas pudding. \\n\\nThe breakdown is:\\n- 12 units for December 2024 \\n- 3 units for January 2025\\n\\nYour brand received positive reviews from our customers for being a decent quality product at a reasonable price point. With the holiday demand, we anticipate needing this quantity to meet customer needs.\\n\\nPlease confirm receipt of this order and provide expected delivery dates. Let me know if you need any additional information from our side.\\n\\nThank you,\\nReply Auto Replenishment \\n[Your Company Name]', 'index': 0}]\u001b[0m\n",
      "\n",
      "\u001b[1m> Finished chain.\u001b[0m\n",
      "--------------------\n",
      "Here is a draft email to order Christmas pudding from a supplier:\n",
      "\n",
      "To: orders@brandBpuddings.com\n",
      "Subject: Christmas Pudding Order for December 2024 and January 2025\n",
      "\n",
      "Dear Brand B Puddings,\n",
      "\n",
      "Based on analysis of our sales data and projections for the upcoming holiday season, I would like to place an order for 15 units of your Brand B Christmas pudding. \n",
      "\n",
      "The breakdown is:\n",
      "- 12 units for December 2024 \n",
      "- 3 units for January 2025\n",
      "\n",
      "Your brand received positive reviews from our customers for being a decent quality product at a reasonable price point. With the holiday demand, we anticipate needing this quantity to meet customer needs.\n",
      "\n",
      "Please confirm receipt of this order and provide expected delivery dates. Let me know if you need any additional information from our side.\n",
      "\n",
      "Thank you,\n",
      "Reply Auto Replenishment \n",
      "[Your Company Name]\n",
      "\n",
      "\n",
      "--------------------\n",
      "Based on the information provided, here is my analysis and recommendation for ordering suncream:\n",
      "\n",
      "1. The data shows that suncream usage peaks in the summer months of June, July and August. The current month is December, which has very low historical usage.\n",
      "\n",
      "2. Using the datetime tool, I can see that the current date is 2024-12-12. Converting the month and year to strings gives \"December\" and \"2024\".\n",
      "\n",
      "3. Looking at last month's (November) usage of 20 units and the remaining stock of 5 units this month, it appears stocks are not low compared to typical December demand of 0 units.\n",
      "\n",
      "4. However, looking ahead to next year's summer months:\n",
      "- Last June used 80 units \n",
      "- Last July used 100 units\n",
      "- Last August used 70 units\n",
      "\n",
      "5. Considering upcoming holidays, April and May of next year may also see higher demand leading up to the summer season.\n",
      "\n",
      "6. To calculate order quantities:\n",
      "\n",
      "```python\n",
      "last_june_usage = 80\n",
      "last_july_usage = 100  \n",
      "last_aug_usage = 70\n",
      "\n",
      "# Assume 20% increase in demand next summer\n",
      "june_2025_forecast = last_june_usage * 1.2 = 96\n",
      "july_2025_forecast = last_july_usage * 1.2 = 120\n",
      "aug_2025_forecast = last_aug_usage * 1.2 = 84\n",
      "\n",
      "# Order enough for June-Aug 2025 \n",
      "order_qty_for_summer = june_2025_forecast + july_2025_forecast + aug_2025_forecast\n",
      "order_qty_for_summer = 96 + 120 + 84 = 300\n",
      "\n",
      "# Also account for April-May ramp up  \n",
      "april_may_buffer = 50 \n",
      "total_order_qty = order_qty_for_summer + april_may_buffer\n",
      "total_order_qty = 300 + 50 = 350\n",
      "```\n",
      "\n",
      "7. Based on the customer reviews, Brand A received the most positive feedback, so I would recommend ordering Brand A suncream.\n",
      "\n",
      "8. Email draft to supplier:\n",
      "\n",
      "Subject: Suncream Order for Brand A\n",
      "\n",
      "Dear Supplier,\n",
      "\n",
      "To prepare for next year's summer season, we would like to place an order for 350 units of Brand A suncream. Our analysis shows this quantity will cover expected demand for the months of April through August 2025.\n",
      "\n",
      "Please confirm pricing and delivery timeline at your earliest convenience.\n",
      "\n",
      "Thank you,\n",
      "Reply Auto Replenishment\n",
      "\n",
      "\n"
     ]
    }
   ],
   "source": [
    "raw_list = []\n",
    "run_agent(prompt,'christmas pudding',raw_list,True)\n",
    "run_agent(prompt,'suncream',raw_list,False)\n",
    "for i in range(len(raw_list)):\n",
    "    print('-'*20)\n",
    "    print(raw_list[i])\n",
    "    print('\\n')"
   ]
  },
  {
   "cell_type": "markdown",
   "id": "da059383-7f70-4764-9b29-228f3b5979a5",
   "metadata": {
    "tags": []
   },
   "source": [
    "## just output email"
   ]
  },
  {
   "cell_type": "code",
   "execution_count": 57,
   "id": "faf3f33a-e95f-469c-a487-ef1141a6f779",
   "metadata": {
    "tags": []
   },
   "outputs": [],
   "source": [
    "email_prompt = PromptTemplate(\n",
    "    input_variables=[\"input\", \"agent_scratchpad\"],  # Include both input and agent_scratchpad\n",
    "    template=\"\"\"\n",
    "Use the retriever tool to answer any queries related to internal data files. \n",
    "Only use external tools (like Wikipedia) if no relevant information is found internally.\n",
    "When asked about a specific item output the answers to the following queries: \n",
    "\n",
    "Should this item be ordered? \n",
    "Find out what date it is currently using date time tool. Convert the month and year into strings and use these for the rest of the answer.\n",
    "Use recent stock statistics to see if the stocks for this month are low compared to how much was used last month.\n",
    "Use the statistics from last year to predict how much of each item will be needed for the rest of this month and next month.\n",
    "Use what month it is at the time the call is being made and whether any important holidays eg christmas or summer will be coming up and use this information in your decision.\n",
    "a) how much should be ordered for this month and next month\n",
    "b) how much should be ordered in the next few months\n",
    "\n",
    "What brand?\n",
    "Use the customers reviews to decide this. \n",
    "\n",
    "If this item should be ordered, how much of this item should be ordered?\n",
    "Use the repl tool to calculate these numbers.\n",
    "\n",
    "Draft an email to an imaginary supplier of this brand to order the number of the item you think should be ordered, signing off as Reply Auto Replenishment.\n",
    "If you decide that an item should be ordered, use the email writing tool to send the appropriate email.\n",
    "The parameters to the function writing_email should be:\n",
    "recipient='lucaswong631@gmail.com\n",
    "my_name= [you as a model decide name of sender]\n",
    "subject= [you as a model decide subject of email]\n",
    "text= [email you drafted]\n",
    "html= [any html you want to add in, if not set it as '']\n",
    "The only thing you should output is the email and 'Email sent', or 'No need to order more of [item]'.\n",
    "If you decide there is no need to order more of an item, explain why, but if you send an email do not output anything else back.\n",
    "\n",
    "Query: {input}\n",
    "\n",
    "{agent_scratchpad}\n",
    "\"\"\"\n",
    ")"
   ]
  },
  {
   "cell_type": "markdown",
   "id": "08108d54-b258-4e62-9dd0-a3120afca8da",
   "metadata": {},
   "source": [
    "### sending emails"
   ]
  },
  {
   "cell_type": "code",
   "execution_count": 25,
   "id": "6e6c7981-3a32-479a-aeb0-861ecaa438c9",
   "metadata": {
    "tags": []
   },
   "outputs": [
    {
     "name": "stdout",
     "output_type": "stream",
     "text": [
      "Requirement already satisfied: mailjet_rest in /home/ec2-user/anaconda3/envs/python3/lib/python3.10/site-packages (1.3.4)\n",
      "Requirement already satisfied: requests>=2.4.3 in /home/ec2-user/anaconda3/envs/python3/lib/python3.10/site-packages (from mailjet_rest) (2.32.3)\n",
      "Requirement already satisfied: charset-normalizer<4,>=2 in /home/ec2-user/anaconda3/envs/python3/lib/python3.10/site-packages (from requests>=2.4.3->mailjet_rest) (3.4.0)\n",
      "Requirement already satisfied: idna<4,>=2.5 in /home/ec2-user/anaconda3/envs/python3/lib/python3.10/site-packages (from requests>=2.4.3->mailjet_rest) (3.10)\n",
      "Requirement already satisfied: urllib3<3,>=1.21.1 in /home/ec2-user/anaconda3/envs/python3/lib/python3.10/site-packages (from requests>=2.4.3->mailjet_rest) (2.2.3)\n",
      "Requirement already satisfied: certifi>=2017.4.17 in /home/ec2-user/anaconda3/envs/python3/lib/python3.10/site-packages (from requests>=2.4.3->mailjet_rest) (2024.8.30)\n"
     ]
    }
   ],
   "source": [
    "!pip install mailjet_rest"
   ]
  },
  {
   "cell_type": "code",
   "execution_count": 26,
   "id": "1fe397a4-b912-4bed-a967-36eed04629e4",
   "metadata": {},
   "outputs": [],
   "source": [
    "from mailjet_rest import Client\n",
    "import os\n",
    "\n",
    "os.environ['MJ_APIKEY_PUBLIC'] = '3ca28dfede990c7e1df73da9f7303f06'\n",
    "os.environ['MJ_APIKEY_PRIVATE'] = '9c4976205a677cf6c975dc22ae43656e'\n",
    "\n",
    "# Access them using os.environ\n",
    "api_key = os.environ['MJ_APIKEY_PUBLIC']\n",
    "api_secret = os.environ['MJ_APIKEY_PRIVATE']\n",
    "\n",
    "# Initialize Mailjet client\n",
    "mailjet = Client(auth=(api_key, api_secret))\n"
   ]
  },
  {
   "cell_type": "code",
   "execution_count": 30,
   "id": "e2c0c3a6-d37c-41a0-8da5-02785c0a07c1",
   "metadata": {
    "tags": []
   },
   "outputs": [],
   "source": [
    "raw_list=[]\n",
    "run_agent(email_prompt,'tooth paste',raw_list,False)"
   ]
  },
  {
   "cell_type": "code",
   "execution_count": 32,
   "id": "7405c500-c82e-49bb-b612-6092fe592640",
   "metadata": {
    "tags": []
   },
   "outputs": [
    {
     "name": "stdout",
     "output_type": "stream",
     "text": [
      "200\n",
      "{'Sent': [{'Email': 'lucaswong631@gmail.com', 'MessageID': 288230403600958000, 'MessageUUID': '27a0995f-054e-446c-825f-f161883ab4a9'}]}\n"
     ]
    }
   ],
   "source": [
    "lucas_email = 'lucaswong631@gmail.com'\n",
    "write_email(lucas_email,'Data Reply Autoreplenishment','Incoming supply request',raw_list[0],'')"
   ]
  },
  {
   "cell_type": "code",
   "execution_count": 38,
   "id": "f1b04a5c-7c0a-49fb-98de-b9460ddae9ea",
   "metadata": {
    "tags": []
   },
   "outputs": [
    {
     "ename": "ValidationException",
     "evalue": "An error occurred (ValidationException) when calling the ConverseStream operation: 1 validation error detected: Value 'Send Email' at 'toolConfig.tools.6.member.toolSpec.name' failed to satisfy constraint: Member must satisfy regular expression pattern: [a-zA-Z][a-zA-Z0-9_]*",
     "output_type": "error",
     "traceback": [
      "\u001b[0;31m---------------------------------------------------------------------------\u001b[0m",
      "\u001b[0;31mValidationException\u001b[0m                       Traceback (most recent call last)",
      "Cell \u001b[0;32mIn[38], line 1\u001b[0m\n\u001b[0;32m----> 1\u001b[0m \u001b[43mrun_agent\u001b[49m\u001b[43m(\u001b[49m\u001b[43memail_prompt\u001b[49m\u001b[43m,\u001b[49m\u001b[38;5;124;43m'\u001b[39;49m\u001b[38;5;124;43mbread\u001b[39;49m\u001b[38;5;124;43m'\u001b[39;49m\u001b[43m,\u001b[49m\u001b[43mraw_list\u001b[49m\u001b[43m,\u001b[49m\u001b[38;5;28;43;01mFalse\u001b[39;49;00m\u001b[43m)\u001b[49m\n",
      "Cell \u001b[0;32mIn[22], line 4\u001b[0m, in \u001b[0;36mrun_agent\u001b[0;34m(prompt, agent_input, raw_list, verbose_setting)\u001b[0m\n\u001b[1;32m      2\u001b[0m agent \u001b[38;5;241m=\u001b[39m create_tool_calling_agent(bedrock_llm, tools, prompt)\n\u001b[1;32m      3\u001b[0m agent_executor \u001b[38;5;241m=\u001b[39m AgentExecutor(agent\u001b[38;5;241m=\u001b[39magent, tools\u001b[38;5;241m=\u001b[39mtools, verbose\u001b[38;5;241m=\u001b[39mverbose_setting,handle_parsing_errors\u001b[38;5;241m=\u001b[39m\u001b[38;5;28;01mTrue\u001b[39;00m)\n\u001b[0;32m----> 4\u001b[0m response \u001b[38;5;241m=\u001b[39m \u001b[43magent_executor\u001b[49m\u001b[38;5;241;43m.\u001b[39;49m\u001b[43minvoke\u001b[49m\u001b[43m(\u001b[49m\u001b[43m{\u001b[49m\u001b[38;5;124;43m\"\u001b[39;49m\u001b[38;5;124;43minput\u001b[39;49m\u001b[38;5;124;43m\"\u001b[39;49m\u001b[43m:\u001b[49m\u001b[43m \u001b[49m\u001b[43magent_input\u001b[49m\u001b[43m}\u001b[49m\u001b[43m)\u001b[49m\n\u001b[1;32m      5\u001b[0m raw_output \u001b[38;5;241m=\u001b[39m response[\u001b[38;5;124m'\u001b[39m\u001b[38;5;124moutput\u001b[39m\u001b[38;5;124m'\u001b[39m][\u001b[38;5;241m0\u001b[39m][\u001b[38;5;124m'\u001b[39m\u001b[38;5;124mtext\u001b[39m\u001b[38;5;124m'\u001b[39m]\n\u001b[1;32m      6\u001b[0m raw_list\u001b[38;5;241m.\u001b[39mappend(raw_output)\n",
      "File \u001b[0;32m~/anaconda3/envs/python3/lib/python3.10/site-packages/langchain/chains/base.py:170\u001b[0m, in \u001b[0;36mChain.invoke\u001b[0;34m(self, input, config, **kwargs)\u001b[0m\n\u001b[1;32m    168\u001b[0m \u001b[38;5;28;01mexcept\u001b[39;00m \u001b[38;5;167;01mBaseException\u001b[39;00m \u001b[38;5;28;01mas\u001b[39;00m e:\n\u001b[1;32m    169\u001b[0m     run_manager\u001b[38;5;241m.\u001b[39mon_chain_error(e)\n\u001b[0;32m--> 170\u001b[0m     \u001b[38;5;28;01mraise\u001b[39;00m e\n\u001b[1;32m    171\u001b[0m run_manager\u001b[38;5;241m.\u001b[39mon_chain_end(outputs)\n\u001b[1;32m    173\u001b[0m \u001b[38;5;28;01mif\u001b[39;00m include_run_info:\n",
      "File \u001b[0;32m~/anaconda3/envs/python3/lib/python3.10/site-packages/langchain/chains/base.py:160\u001b[0m, in \u001b[0;36mChain.invoke\u001b[0;34m(self, input, config, **kwargs)\u001b[0m\n\u001b[1;32m    157\u001b[0m \u001b[38;5;28;01mtry\u001b[39;00m:\n\u001b[1;32m    158\u001b[0m     \u001b[38;5;28mself\u001b[39m\u001b[38;5;241m.\u001b[39m_validate_inputs(inputs)\n\u001b[1;32m    159\u001b[0m     outputs \u001b[38;5;241m=\u001b[39m (\n\u001b[0;32m--> 160\u001b[0m         \u001b[38;5;28;43mself\u001b[39;49m\u001b[38;5;241;43m.\u001b[39;49m\u001b[43m_call\u001b[49m\u001b[43m(\u001b[49m\u001b[43minputs\u001b[49m\u001b[43m,\u001b[49m\u001b[43m \u001b[49m\u001b[43mrun_manager\u001b[49m\u001b[38;5;241;43m=\u001b[39;49m\u001b[43mrun_manager\u001b[49m\u001b[43m)\u001b[49m\n\u001b[1;32m    161\u001b[0m         \u001b[38;5;28;01mif\u001b[39;00m new_arg_supported\n\u001b[1;32m    162\u001b[0m         \u001b[38;5;28;01melse\u001b[39;00m \u001b[38;5;28mself\u001b[39m\u001b[38;5;241m.\u001b[39m_call(inputs)\n\u001b[1;32m    163\u001b[0m     )\n\u001b[1;32m    165\u001b[0m     final_outputs: Dict[\u001b[38;5;28mstr\u001b[39m, Any] \u001b[38;5;241m=\u001b[39m \u001b[38;5;28mself\u001b[39m\u001b[38;5;241m.\u001b[39mprep_outputs(\n\u001b[1;32m    166\u001b[0m         inputs, outputs, return_only_outputs\n\u001b[1;32m    167\u001b[0m     )\n\u001b[1;32m    168\u001b[0m \u001b[38;5;28;01mexcept\u001b[39;00m \u001b[38;5;167;01mBaseException\u001b[39;00m \u001b[38;5;28;01mas\u001b[39;00m e:\n",
      "File \u001b[0;32m~/anaconda3/envs/python3/lib/python3.10/site-packages/langchain/agents/agent.py:1624\u001b[0m, in \u001b[0;36mAgentExecutor._call\u001b[0;34m(self, inputs, run_manager)\u001b[0m\n\u001b[1;32m   1622\u001b[0m \u001b[38;5;66;03m# We now enter the agent loop (until it returns something).\u001b[39;00m\n\u001b[1;32m   1623\u001b[0m \u001b[38;5;28;01mwhile\u001b[39;00m \u001b[38;5;28mself\u001b[39m\u001b[38;5;241m.\u001b[39m_should_continue(iterations, time_elapsed):\n\u001b[0;32m-> 1624\u001b[0m     next_step_output \u001b[38;5;241m=\u001b[39m \u001b[38;5;28;43mself\u001b[39;49m\u001b[38;5;241;43m.\u001b[39;49m\u001b[43m_take_next_step\u001b[49m\u001b[43m(\u001b[49m\n\u001b[1;32m   1625\u001b[0m \u001b[43m        \u001b[49m\u001b[43mname_to_tool_map\u001b[49m\u001b[43m,\u001b[49m\n\u001b[1;32m   1626\u001b[0m \u001b[43m        \u001b[49m\u001b[43mcolor_mapping\u001b[49m\u001b[43m,\u001b[49m\n\u001b[1;32m   1627\u001b[0m \u001b[43m        \u001b[49m\u001b[43minputs\u001b[49m\u001b[43m,\u001b[49m\n\u001b[1;32m   1628\u001b[0m \u001b[43m        \u001b[49m\u001b[43mintermediate_steps\u001b[49m\u001b[43m,\u001b[49m\n\u001b[1;32m   1629\u001b[0m \u001b[43m        \u001b[49m\u001b[43mrun_manager\u001b[49m\u001b[38;5;241;43m=\u001b[39;49m\u001b[43mrun_manager\u001b[49m\u001b[43m,\u001b[49m\n\u001b[1;32m   1630\u001b[0m \u001b[43m    \u001b[49m\u001b[43m)\u001b[49m\n\u001b[1;32m   1631\u001b[0m     \u001b[38;5;28;01mif\u001b[39;00m \u001b[38;5;28misinstance\u001b[39m(next_step_output, AgentFinish):\n\u001b[1;32m   1632\u001b[0m         \u001b[38;5;28;01mreturn\u001b[39;00m \u001b[38;5;28mself\u001b[39m\u001b[38;5;241m.\u001b[39m_return(\n\u001b[1;32m   1633\u001b[0m             next_step_output, intermediate_steps, run_manager\u001b[38;5;241m=\u001b[39mrun_manager\n\u001b[1;32m   1634\u001b[0m         )\n",
      "File \u001b[0;32m~/anaconda3/envs/python3/lib/python3.10/site-packages/langchain/agents/agent.py:1330\u001b[0m, in \u001b[0;36mAgentExecutor._take_next_step\u001b[0;34m(self, name_to_tool_map, color_mapping, inputs, intermediate_steps, run_manager)\u001b[0m\n\u001b[1;32m   1321\u001b[0m \u001b[38;5;28;01mdef\u001b[39;00m \u001b[38;5;21m_take_next_step\u001b[39m(\n\u001b[1;32m   1322\u001b[0m     \u001b[38;5;28mself\u001b[39m,\n\u001b[1;32m   1323\u001b[0m     name_to_tool_map: Dict[\u001b[38;5;28mstr\u001b[39m, BaseTool],\n\u001b[0;32m   (...)\u001b[0m\n\u001b[1;32m   1327\u001b[0m     run_manager: Optional[CallbackManagerForChainRun] \u001b[38;5;241m=\u001b[39m \u001b[38;5;28;01mNone\u001b[39;00m,\n\u001b[1;32m   1328\u001b[0m ) \u001b[38;5;241m-\u001b[39m\u001b[38;5;241m>\u001b[39m Union[AgentFinish, List[Tuple[AgentAction, \u001b[38;5;28mstr\u001b[39m]]]:\n\u001b[1;32m   1329\u001b[0m     \u001b[38;5;28;01mreturn\u001b[39;00m \u001b[38;5;28mself\u001b[39m\u001b[38;5;241m.\u001b[39m_consume_next_step(\n\u001b[0;32m-> 1330\u001b[0m         [\n\u001b[1;32m   1331\u001b[0m             a\n\u001b[1;32m   1332\u001b[0m             \u001b[38;5;28;01mfor\u001b[39;00m a \u001b[38;5;129;01min\u001b[39;00m \u001b[38;5;28mself\u001b[39m\u001b[38;5;241m.\u001b[39m_iter_next_step(\n\u001b[1;32m   1333\u001b[0m                 name_to_tool_map,\n\u001b[1;32m   1334\u001b[0m                 color_mapping,\n\u001b[1;32m   1335\u001b[0m                 inputs,\n\u001b[1;32m   1336\u001b[0m                 intermediate_steps,\n\u001b[1;32m   1337\u001b[0m                 run_manager,\n\u001b[1;32m   1338\u001b[0m             )\n\u001b[1;32m   1339\u001b[0m         ]\n\u001b[1;32m   1340\u001b[0m     )\n",
      "File \u001b[0;32m~/anaconda3/envs/python3/lib/python3.10/site-packages/langchain/agents/agent.py:1330\u001b[0m, in \u001b[0;36m<listcomp>\u001b[0;34m(.0)\u001b[0m\n\u001b[1;32m   1321\u001b[0m \u001b[38;5;28;01mdef\u001b[39;00m \u001b[38;5;21m_take_next_step\u001b[39m(\n\u001b[1;32m   1322\u001b[0m     \u001b[38;5;28mself\u001b[39m,\n\u001b[1;32m   1323\u001b[0m     name_to_tool_map: Dict[\u001b[38;5;28mstr\u001b[39m, BaseTool],\n\u001b[0;32m   (...)\u001b[0m\n\u001b[1;32m   1327\u001b[0m     run_manager: Optional[CallbackManagerForChainRun] \u001b[38;5;241m=\u001b[39m \u001b[38;5;28;01mNone\u001b[39;00m,\n\u001b[1;32m   1328\u001b[0m ) \u001b[38;5;241m-\u001b[39m\u001b[38;5;241m>\u001b[39m Union[AgentFinish, List[Tuple[AgentAction, \u001b[38;5;28mstr\u001b[39m]]]:\n\u001b[1;32m   1329\u001b[0m     \u001b[38;5;28;01mreturn\u001b[39;00m \u001b[38;5;28mself\u001b[39m\u001b[38;5;241m.\u001b[39m_consume_next_step(\n\u001b[0;32m-> 1330\u001b[0m         [\n\u001b[1;32m   1331\u001b[0m             a\n\u001b[1;32m   1332\u001b[0m             \u001b[38;5;28;01mfor\u001b[39;00m a \u001b[38;5;129;01min\u001b[39;00m \u001b[38;5;28mself\u001b[39m\u001b[38;5;241m.\u001b[39m_iter_next_step(\n\u001b[1;32m   1333\u001b[0m                 name_to_tool_map,\n\u001b[1;32m   1334\u001b[0m                 color_mapping,\n\u001b[1;32m   1335\u001b[0m                 inputs,\n\u001b[1;32m   1336\u001b[0m                 intermediate_steps,\n\u001b[1;32m   1337\u001b[0m                 run_manager,\n\u001b[1;32m   1338\u001b[0m             )\n\u001b[1;32m   1339\u001b[0m         ]\n\u001b[1;32m   1340\u001b[0m     )\n",
      "File \u001b[0;32m~/anaconda3/envs/python3/lib/python3.10/site-packages/langchain/agents/agent.py:1358\u001b[0m, in \u001b[0;36mAgentExecutor._iter_next_step\u001b[0;34m(self, name_to_tool_map, color_mapping, inputs, intermediate_steps, run_manager)\u001b[0m\n\u001b[1;32m   1355\u001b[0m     intermediate_steps \u001b[38;5;241m=\u001b[39m \u001b[38;5;28mself\u001b[39m\u001b[38;5;241m.\u001b[39m_prepare_intermediate_steps(intermediate_steps)\n\u001b[1;32m   1357\u001b[0m     \u001b[38;5;66;03m# Call the LLM to see what to do.\u001b[39;00m\n\u001b[0;32m-> 1358\u001b[0m     output \u001b[38;5;241m=\u001b[39m \u001b[38;5;28;43mself\u001b[39;49m\u001b[38;5;241;43m.\u001b[39;49m\u001b[43m_action_agent\u001b[49m\u001b[38;5;241;43m.\u001b[39;49m\u001b[43mplan\u001b[49m\u001b[43m(\u001b[49m\n\u001b[1;32m   1359\u001b[0m \u001b[43m        \u001b[49m\u001b[43mintermediate_steps\u001b[49m\u001b[43m,\u001b[49m\n\u001b[1;32m   1360\u001b[0m \u001b[43m        \u001b[49m\u001b[43mcallbacks\u001b[49m\u001b[38;5;241;43m=\u001b[39;49m\u001b[43mrun_manager\u001b[49m\u001b[38;5;241;43m.\u001b[39;49m\u001b[43mget_child\u001b[49m\u001b[43m(\u001b[49m\u001b[43m)\u001b[49m\u001b[43m \u001b[49m\u001b[38;5;28;43;01mif\u001b[39;49;00m\u001b[43m \u001b[49m\u001b[43mrun_manager\u001b[49m\u001b[43m \u001b[49m\u001b[38;5;28;43;01melse\u001b[39;49;00m\u001b[43m \u001b[49m\u001b[38;5;28;43;01mNone\u001b[39;49;00m\u001b[43m,\u001b[49m\n\u001b[1;32m   1361\u001b[0m \u001b[43m        \u001b[49m\u001b[38;5;241;43m*\u001b[39;49m\u001b[38;5;241;43m*\u001b[39;49m\u001b[43minputs\u001b[49m\u001b[43m,\u001b[49m\n\u001b[1;32m   1362\u001b[0m \u001b[43m    \u001b[49m\u001b[43m)\u001b[49m\n\u001b[1;32m   1363\u001b[0m \u001b[38;5;28;01mexcept\u001b[39;00m OutputParserException \u001b[38;5;28;01mas\u001b[39;00m e:\n\u001b[1;32m   1364\u001b[0m     \u001b[38;5;28;01mif\u001b[39;00m \u001b[38;5;28misinstance\u001b[39m(\u001b[38;5;28mself\u001b[39m\u001b[38;5;241m.\u001b[39mhandle_parsing_errors, \u001b[38;5;28mbool\u001b[39m):\n",
      "File \u001b[0;32m~/anaconda3/envs/python3/lib/python3.10/site-packages/langchain/agents/agent.py:581\u001b[0m, in \u001b[0;36mRunnableMultiActionAgent.plan\u001b[0;34m(self, intermediate_steps, callbacks, **kwargs)\u001b[0m\n\u001b[1;32m    573\u001b[0m final_output: Any \u001b[38;5;241m=\u001b[39m \u001b[38;5;28;01mNone\u001b[39;00m\n\u001b[1;32m    574\u001b[0m \u001b[38;5;28;01mif\u001b[39;00m \u001b[38;5;28mself\u001b[39m\u001b[38;5;241m.\u001b[39mstream_runnable:\n\u001b[1;32m    575\u001b[0m     \u001b[38;5;66;03m# Use streaming to make sure that the underlying LLM is invoked in a\u001b[39;00m\n\u001b[1;32m    576\u001b[0m     \u001b[38;5;66;03m# streaming\u001b[39;00m\n\u001b[0;32m   (...)\u001b[0m\n\u001b[1;32m    579\u001b[0m     \u001b[38;5;66;03m# Because the response from the plan is not a generator, we need to\u001b[39;00m\n\u001b[1;32m    580\u001b[0m     \u001b[38;5;66;03m# accumulate the output into final output and return that.\u001b[39;00m\n\u001b[0;32m--> 581\u001b[0m     \u001b[38;5;28;01mfor\u001b[39;00m chunk \u001b[38;5;129;01min\u001b[39;00m \u001b[38;5;28mself\u001b[39m\u001b[38;5;241m.\u001b[39mrunnable\u001b[38;5;241m.\u001b[39mstream(inputs, config\u001b[38;5;241m=\u001b[39m{\u001b[38;5;124m\"\u001b[39m\u001b[38;5;124mcallbacks\u001b[39m\u001b[38;5;124m\"\u001b[39m: callbacks}):\n\u001b[1;32m    582\u001b[0m         \u001b[38;5;28;01mif\u001b[39;00m final_output \u001b[38;5;129;01mis\u001b[39;00m \u001b[38;5;28;01mNone\u001b[39;00m:\n\u001b[1;32m    583\u001b[0m             final_output \u001b[38;5;241m=\u001b[39m chunk\n",
      "File \u001b[0;32m~/anaconda3/envs/python3/lib/python3.10/site-packages/langchain_core/runnables/base.py:3407\u001b[0m, in \u001b[0;36mRunnableSequence.stream\u001b[0;34m(self, input, config, **kwargs)\u001b[0m\n\u001b[1;32m   3401\u001b[0m \u001b[38;5;28;01mdef\u001b[39;00m \u001b[38;5;21mstream\u001b[39m(\n\u001b[1;32m   3402\u001b[0m     \u001b[38;5;28mself\u001b[39m,\n\u001b[1;32m   3403\u001b[0m     \u001b[38;5;28minput\u001b[39m: Input,\n\u001b[1;32m   3404\u001b[0m     config: Optional[RunnableConfig] \u001b[38;5;241m=\u001b[39m \u001b[38;5;28;01mNone\u001b[39;00m,\n\u001b[1;32m   3405\u001b[0m     \u001b[38;5;241m*\u001b[39m\u001b[38;5;241m*\u001b[39mkwargs: Optional[Any],\n\u001b[1;32m   3406\u001b[0m ) \u001b[38;5;241m-\u001b[39m\u001b[38;5;241m>\u001b[39m Iterator[Output]:\n\u001b[0;32m-> 3407\u001b[0m     \u001b[38;5;28;01myield from\u001b[39;00m \u001b[38;5;28mself\u001b[39m\u001b[38;5;241m.\u001b[39mtransform(\u001b[38;5;28miter\u001b[39m([\u001b[38;5;28minput\u001b[39m]), config, \u001b[38;5;241m*\u001b[39m\u001b[38;5;241m*\u001b[39mkwargs)\n",
      "File \u001b[0;32m~/anaconda3/envs/python3/lib/python3.10/site-packages/langchain_core/runnables/base.py:3394\u001b[0m, in \u001b[0;36mRunnableSequence.transform\u001b[0;34m(self, input, config, **kwargs)\u001b[0m\n\u001b[1;32m   3388\u001b[0m \u001b[38;5;28;01mdef\u001b[39;00m \u001b[38;5;21mtransform\u001b[39m(\n\u001b[1;32m   3389\u001b[0m     \u001b[38;5;28mself\u001b[39m,\n\u001b[1;32m   3390\u001b[0m     \u001b[38;5;28minput\u001b[39m: Iterator[Input],\n\u001b[1;32m   3391\u001b[0m     config: Optional[RunnableConfig] \u001b[38;5;241m=\u001b[39m \u001b[38;5;28;01mNone\u001b[39;00m,\n\u001b[1;32m   3392\u001b[0m     \u001b[38;5;241m*\u001b[39m\u001b[38;5;241m*\u001b[39mkwargs: Optional[Any],\n\u001b[1;32m   3393\u001b[0m ) \u001b[38;5;241m-\u001b[39m\u001b[38;5;241m>\u001b[39m Iterator[Output]:\n\u001b[0;32m-> 3394\u001b[0m     \u001b[38;5;28;01myield from\u001b[39;00m \u001b[38;5;28mself\u001b[39m\u001b[38;5;241m.\u001b[39m_transform_stream_with_config(\n\u001b[1;32m   3395\u001b[0m         \u001b[38;5;28minput\u001b[39m,\n\u001b[1;32m   3396\u001b[0m         \u001b[38;5;28mself\u001b[39m\u001b[38;5;241m.\u001b[39m_transform,\n\u001b[1;32m   3397\u001b[0m         patch_config(config, run_name\u001b[38;5;241m=\u001b[39m(config \u001b[38;5;129;01mor\u001b[39;00m {})\u001b[38;5;241m.\u001b[39mget(\u001b[38;5;124m\"\u001b[39m\u001b[38;5;124mrun_name\u001b[39m\u001b[38;5;124m\"\u001b[39m) \u001b[38;5;129;01mor\u001b[39;00m \u001b[38;5;28mself\u001b[39m\u001b[38;5;241m.\u001b[39mname),\n\u001b[1;32m   3398\u001b[0m         \u001b[38;5;241m*\u001b[39m\u001b[38;5;241m*\u001b[39mkwargs,\n\u001b[1;32m   3399\u001b[0m     )\n",
      "File \u001b[0;32m~/anaconda3/envs/python3/lib/python3.10/site-packages/langchain_core/runnables/base.py:2197\u001b[0m, in \u001b[0;36mRunnable._transform_stream_with_config\u001b[0;34m(self, input, transformer, config, run_type, **kwargs)\u001b[0m\n\u001b[1;32m   2195\u001b[0m \u001b[38;5;28;01mtry\u001b[39;00m:\n\u001b[1;32m   2196\u001b[0m     \u001b[38;5;28;01mwhile\u001b[39;00m \u001b[38;5;28;01mTrue\u001b[39;00m:\n\u001b[0;32m-> 2197\u001b[0m         chunk: Output \u001b[38;5;241m=\u001b[39m \u001b[43mcontext\u001b[49m\u001b[38;5;241;43m.\u001b[39;49m\u001b[43mrun\u001b[49m\u001b[43m(\u001b[49m\u001b[38;5;28;43mnext\u001b[39;49m\u001b[43m,\u001b[49m\u001b[43m \u001b[49m\u001b[43miterator\u001b[49m\u001b[43m)\u001b[49m  \u001b[38;5;66;03m# type: ignore\u001b[39;00m\n\u001b[1;32m   2198\u001b[0m         \u001b[38;5;28;01myield\u001b[39;00m chunk\n\u001b[1;32m   2199\u001b[0m         \u001b[38;5;28;01mif\u001b[39;00m final_output_supported:\n",
      "File \u001b[0;32m~/anaconda3/envs/python3/lib/python3.10/site-packages/langchain_core/runnables/base.py:3357\u001b[0m, in \u001b[0;36mRunnableSequence._transform\u001b[0;34m(self, input, run_manager, config, **kwargs)\u001b[0m\n\u001b[1;32m   3354\u001b[0m     \u001b[38;5;28;01melse\u001b[39;00m:\n\u001b[1;32m   3355\u001b[0m         final_pipeline \u001b[38;5;241m=\u001b[39m step\u001b[38;5;241m.\u001b[39mtransform(final_pipeline, config)\n\u001b[0;32m-> 3357\u001b[0m \u001b[38;5;28;01myield from\u001b[39;00m final_pipeline\n",
      "File \u001b[0;32m~/anaconda3/envs/python3/lib/python3.10/site-packages/langchain_core/runnables/base.py:1413\u001b[0m, in \u001b[0;36mRunnable.transform\u001b[0;34m(self, input, config, **kwargs)\u001b[0m\n\u001b[1;32m   1410\u001b[0m final: Input\n\u001b[1;32m   1411\u001b[0m got_first_val \u001b[38;5;241m=\u001b[39m \u001b[38;5;28;01mFalse\u001b[39;00m\n\u001b[0;32m-> 1413\u001b[0m \u001b[38;5;28;01mfor\u001b[39;00m ichunk \u001b[38;5;129;01min\u001b[39;00m \u001b[38;5;28minput\u001b[39m:\n\u001b[1;32m   1414\u001b[0m     \u001b[38;5;66;03m# The default implementation of transform is to buffer input and\u001b[39;00m\n\u001b[1;32m   1415\u001b[0m     \u001b[38;5;66;03m# then call stream.\u001b[39;00m\n\u001b[1;32m   1416\u001b[0m     \u001b[38;5;66;03m# It'll attempt to gather all input into a single chunk using\u001b[39;00m\n\u001b[1;32m   1417\u001b[0m     \u001b[38;5;66;03m# the `+` operator.\u001b[39;00m\n\u001b[1;32m   1418\u001b[0m     \u001b[38;5;66;03m# If the input is not addable, then we'll assume that we can\u001b[39;00m\n\u001b[1;32m   1419\u001b[0m     \u001b[38;5;66;03m# only operate on the last chunk,\u001b[39;00m\n\u001b[1;32m   1420\u001b[0m     \u001b[38;5;66;03m# and we'll iterate until we get to the last chunk.\u001b[39;00m\n\u001b[1;32m   1421\u001b[0m     \u001b[38;5;28;01mif\u001b[39;00m \u001b[38;5;129;01mnot\u001b[39;00m got_first_val:\n\u001b[1;32m   1422\u001b[0m         final \u001b[38;5;241m=\u001b[39m ichunk\n",
      "File \u001b[0;32m~/anaconda3/envs/python3/lib/python3.10/site-packages/langchain_core/runnables/base.py:5561\u001b[0m, in \u001b[0;36mRunnableBindingBase.transform\u001b[0;34m(self, input, config, **kwargs)\u001b[0m\n\u001b[1;32m   5555\u001b[0m \u001b[38;5;28;01mdef\u001b[39;00m \u001b[38;5;21mtransform\u001b[39m(\n\u001b[1;32m   5556\u001b[0m     \u001b[38;5;28mself\u001b[39m,\n\u001b[1;32m   5557\u001b[0m     \u001b[38;5;28minput\u001b[39m: Iterator[Input],\n\u001b[1;32m   5558\u001b[0m     config: Optional[RunnableConfig] \u001b[38;5;241m=\u001b[39m \u001b[38;5;28;01mNone\u001b[39;00m,\n\u001b[1;32m   5559\u001b[0m     \u001b[38;5;241m*\u001b[39m\u001b[38;5;241m*\u001b[39mkwargs: Any,\n\u001b[1;32m   5560\u001b[0m ) \u001b[38;5;241m-\u001b[39m\u001b[38;5;241m>\u001b[39m Iterator[Output]:\n\u001b[0;32m-> 5561\u001b[0m     \u001b[38;5;28;01myield from\u001b[39;00m \u001b[38;5;28mself\u001b[39m\u001b[38;5;241m.\u001b[39mbound\u001b[38;5;241m.\u001b[39mtransform(\n\u001b[1;32m   5562\u001b[0m         \u001b[38;5;28minput\u001b[39m,\n\u001b[1;32m   5563\u001b[0m         \u001b[38;5;28mself\u001b[39m\u001b[38;5;241m.\u001b[39m_merge_configs(config),\n\u001b[1;32m   5564\u001b[0m         \u001b[38;5;241m*\u001b[39m\u001b[38;5;241m*\u001b[39m{\u001b[38;5;241m*\u001b[39m\u001b[38;5;241m*\u001b[39m\u001b[38;5;28mself\u001b[39m\u001b[38;5;241m.\u001b[39mkwargs, \u001b[38;5;241m*\u001b[39m\u001b[38;5;241m*\u001b[39mkwargs},\n\u001b[1;32m   5565\u001b[0m     )\n",
      "File \u001b[0;32m~/anaconda3/envs/python3/lib/python3.10/site-packages/langchain_core/runnables/base.py:1431\u001b[0m, in \u001b[0;36mRunnable.transform\u001b[0;34m(self, input, config, **kwargs)\u001b[0m\n\u001b[1;32m   1428\u001b[0m             final \u001b[38;5;241m=\u001b[39m ichunk\n\u001b[1;32m   1430\u001b[0m \u001b[38;5;28;01mif\u001b[39;00m got_first_val:\n\u001b[0;32m-> 1431\u001b[0m     \u001b[38;5;28;01myield from\u001b[39;00m \u001b[38;5;28mself\u001b[39m\u001b[38;5;241m.\u001b[39mstream(final, config, \u001b[38;5;241m*\u001b[39m\u001b[38;5;241m*\u001b[39mkwargs)\n",
      "File \u001b[0;32m~/anaconda3/envs/python3/lib/python3.10/site-packages/langchain_core/language_models/chat_models.py:420\u001b[0m, in \u001b[0;36mBaseChatModel.stream\u001b[0;34m(self, input, config, stop, **kwargs)\u001b[0m\n\u001b[1;32m    413\u001b[0m \u001b[38;5;28;01mexcept\u001b[39;00m \u001b[38;5;167;01mBaseException\u001b[39;00m \u001b[38;5;28;01mas\u001b[39;00m e:\n\u001b[1;32m    414\u001b[0m     run_manager\u001b[38;5;241m.\u001b[39mon_llm_error(\n\u001b[1;32m    415\u001b[0m         e,\n\u001b[1;32m    416\u001b[0m         response\u001b[38;5;241m=\u001b[39mLLMResult(\n\u001b[1;32m    417\u001b[0m             generations\u001b[38;5;241m=\u001b[39m[[generation]] \u001b[38;5;28;01mif\u001b[39;00m generation \u001b[38;5;28;01melse\u001b[39;00m []\n\u001b[1;32m    418\u001b[0m         ),\n\u001b[1;32m    419\u001b[0m     )\n\u001b[0;32m--> 420\u001b[0m     \u001b[38;5;28;01mraise\u001b[39;00m e\n\u001b[1;32m    421\u001b[0m \u001b[38;5;28;01melse\u001b[39;00m:\n\u001b[1;32m    422\u001b[0m     run_manager\u001b[38;5;241m.\u001b[39mon_llm_end(LLMResult(generations\u001b[38;5;241m=\u001b[39m[[generation]]))\n",
      "File \u001b[0;32m~/anaconda3/envs/python3/lib/python3.10/site-packages/langchain_core/language_models/chat_models.py:400\u001b[0m, in \u001b[0;36mBaseChatModel.stream\u001b[0;34m(self, input, config, stop, **kwargs)\u001b[0m\n\u001b[1;32m    397\u001b[0m     \u001b[38;5;28mself\u001b[39m\u001b[38;5;241m.\u001b[39mrate_limiter\u001b[38;5;241m.\u001b[39macquire(blocking\u001b[38;5;241m=\u001b[39m\u001b[38;5;28;01mTrue\u001b[39;00m)\n\u001b[1;32m    399\u001b[0m \u001b[38;5;28;01mtry\u001b[39;00m:\n\u001b[0;32m--> 400\u001b[0m     \u001b[38;5;28;01mfor\u001b[39;00m chunk \u001b[38;5;129;01min\u001b[39;00m \u001b[38;5;28mself\u001b[39m\u001b[38;5;241m.\u001b[39m_stream(messages, stop\u001b[38;5;241m=\u001b[39mstop, \u001b[38;5;241m*\u001b[39m\u001b[38;5;241m*\u001b[39mkwargs):\n\u001b[1;32m    401\u001b[0m         \u001b[38;5;28;01mif\u001b[39;00m chunk\u001b[38;5;241m.\u001b[39mmessage\u001b[38;5;241m.\u001b[39mid \u001b[38;5;129;01mis\u001b[39;00m \u001b[38;5;28;01mNone\u001b[39;00m:\n\u001b[1;32m    402\u001b[0m             chunk\u001b[38;5;241m.\u001b[39mmessage\u001b[38;5;241m.\u001b[39mid \u001b[38;5;241m=\u001b[39m \u001b[38;5;124mf\u001b[39m\u001b[38;5;124m\"\u001b[39m\u001b[38;5;124mrun-\u001b[39m\u001b[38;5;132;01m{\u001b[39;00mrun_manager\u001b[38;5;241m.\u001b[39mrun_id\u001b[38;5;132;01m}\u001b[39;00m\u001b[38;5;124m\"\u001b[39m\n",
      "File \u001b[0;32m~/anaconda3/envs/python3/lib/python3.10/site-packages/langchain_aws/chat_models/bedrock_converse.py:518\u001b[0m, in \u001b[0;36mChatBedrockConverse._stream\u001b[0;34m(self, messages, stop, run_manager, **kwargs)\u001b[0m\n\u001b[1;32m    514\u001b[0m bedrock_messages, system \u001b[38;5;241m=\u001b[39m _messages_to_bedrock(messages)\n\u001b[1;32m    515\u001b[0m params \u001b[38;5;241m=\u001b[39m \u001b[38;5;28mself\u001b[39m\u001b[38;5;241m.\u001b[39m_converse_params(\n\u001b[1;32m    516\u001b[0m     stop\u001b[38;5;241m=\u001b[39mstop, \u001b[38;5;241m*\u001b[39m\u001b[38;5;241m*\u001b[39m_snake_to_camel_keys(kwargs, excluded_keys\u001b[38;5;241m=\u001b[39m{\u001b[38;5;124m\"\u001b[39m\u001b[38;5;124minputSchema\u001b[39m\u001b[38;5;124m\"\u001b[39m})\n\u001b[1;32m    517\u001b[0m )\n\u001b[0;32m--> 518\u001b[0m response \u001b[38;5;241m=\u001b[39m \u001b[38;5;28;43mself\u001b[39;49m\u001b[38;5;241;43m.\u001b[39;49m\u001b[43mclient\u001b[49m\u001b[38;5;241;43m.\u001b[39;49m\u001b[43mconverse_stream\u001b[49m\u001b[43m(\u001b[49m\n\u001b[1;32m    519\u001b[0m \u001b[43m    \u001b[49m\u001b[43mmessages\u001b[49m\u001b[38;5;241;43m=\u001b[39;49m\u001b[43mbedrock_messages\u001b[49m\u001b[43m,\u001b[49m\u001b[43m \u001b[49m\u001b[43msystem\u001b[49m\u001b[38;5;241;43m=\u001b[39;49m\u001b[43msystem\u001b[49m\u001b[43m,\u001b[49m\u001b[43m \u001b[49m\u001b[38;5;241;43m*\u001b[39;49m\u001b[38;5;241;43m*\u001b[39;49m\u001b[43mparams\u001b[49m\n\u001b[1;32m    520\u001b[0m \u001b[43m\u001b[49m\u001b[43m)\u001b[49m\n\u001b[1;32m    521\u001b[0m \u001b[38;5;28;01mfor\u001b[39;00m event \u001b[38;5;129;01min\u001b[39;00m response[\u001b[38;5;124m\"\u001b[39m\u001b[38;5;124mstream\u001b[39m\u001b[38;5;124m\"\u001b[39m]:\n\u001b[1;32m    522\u001b[0m     \u001b[38;5;28;01mif\u001b[39;00m message_chunk \u001b[38;5;241m:=\u001b[39m _parse_stream_event(event):\n",
      "File \u001b[0;32m~/anaconda3/envs/python3/lib/python3.10/site-packages/botocore/client.py:569\u001b[0m, in \u001b[0;36mClientCreator._create_api_method.<locals>._api_call\u001b[0;34m(self, *args, **kwargs)\u001b[0m\n\u001b[1;32m    565\u001b[0m     \u001b[38;5;28;01mraise\u001b[39;00m \u001b[38;5;167;01mTypeError\u001b[39;00m(\n\u001b[1;32m    566\u001b[0m         \u001b[38;5;124mf\u001b[39m\u001b[38;5;124m\"\u001b[39m\u001b[38;5;132;01m{\u001b[39;00mpy_operation_name\u001b[38;5;132;01m}\u001b[39;00m\u001b[38;5;124m() only accepts keyword arguments.\u001b[39m\u001b[38;5;124m\"\u001b[39m\n\u001b[1;32m    567\u001b[0m     )\n\u001b[1;32m    568\u001b[0m \u001b[38;5;66;03m# The \"self\" in this scope is referring to the BaseClient.\u001b[39;00m\n\u001b[0;32m--> 569\u001b[0m \u001b[38;5;28;01mreturn\u001b[39;00m \u001b[38;5;28;43mself\u001b[39;49m\u001b[38;5;241;43m.\u001b[39;49m\u001b[43m_make_api_call\u001b[49m\u001b[43m(\u001b[49m\u001b[43moperation_name\u001b[49m\u001b[43m,\u001b[49m\u001b[43m \u001b[49m\u001b[43mkwargs\u001b[49m\u001b[43m)\u001b[49m\n",
      "File \u001b[0;32m~/anaconda3/envs/python3/lib/python3.10/site-packages/botocore/client.py:1023\u001b[0m, in \u001b[0;36mBaseClient._make_api_call\u001b[0;34m(self, operation_name, api_params)\u001b[0m\n\u001b[1;32m   1019\u001b[0m     error_code \u001b[38;5;241m=\u001b[39m error_info\u001b[38;5;241m.\u001b[39mget(\u001b[38;5;124m\"\u001b[39m\u001b[38;5;124mQueryErrorCode\u001b[39m\u001b[38;5;124m\"\u001b[39m) \u001b[38;5;129;01mor\u001b[39;00m error_info\u001b[38;5;241m.\u001b[39mget(\n\u001b[1;32m   1020\u001b[0m         \u001b[38;5;124m\"\u001b[39m\u001b[38;5;124mCode\u001b[39m\u001b[38;5;124m\"\u001b[39m\n\u001b[1;32m   1021\u001b[0m     )\n\u001b[1;32m   1022\u001b[0m     error_class \u001b[38;5;241m=\u001b[39m \u001b[38;5;28mself\u001b[39m\u001b[38;5;241m.\u001b[39mexceptions\u001b[38;5;241m.\u001b[39mfrom_code(error_code)\n\u001b[0;32m-> 1023\u001b[0m     \u001b[38;5;28;01mraise\u001b[39;00m error_class(parsed_response, operation_name)\n\u001b[1;32m   1024\u001b[0m \u001b[38;5;28;01melse\u001b[39;00m:\n\u001b[1;32m   1025\u001b[0m     \u001b[38;5;28;01mreturn\u001b[39;00m parsed_response\n",
      "\u001b[0;31mValidationException\u001b[0m: An error occurred (ValidationException) when calling the ConverseStream operation: 1 validation error detected: Value 'Send Email' at 'toolConfig.tools.6.member.toolSpec.name' failed to satisfy constraint: Member must satisfy regular expression pattern: [a-zA-Z][a-zA-Z0-9_]*"
     ]
    }
   ],
   "source": [
    "run_agent(email_prompt,'bread',raw_list,False) # DOES NOT WORk !!! not sure why"
   ]
  }
 ],
 "metadata": {
  "kernelspec": {
   "display_name": "conda_python3",
   "language": "python",
   "name": "conda_python3"
  },
  "language_info": {
   "codemirror_mode": {
    "name": "ipython",
    "version": 3
   },
   "file_extension": ".py",
   "mimetype": "text/x-python",
   "name": "python",
   "nbconvert_exporter": "python",
   "pygments_lexer": "ipython3",
   "version": "3.10.15"
  }
 },
 "nbformat": 4,
 "nbformat_minor": 5
}
