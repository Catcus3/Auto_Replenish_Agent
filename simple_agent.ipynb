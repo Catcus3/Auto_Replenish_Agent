{
 "cells": [
  {
   "cell_type": "markdown",
   "id": "21faa523-2dfa-49e9-84cc-106097d92a69",
   "metadata": {
    "jp-MarkdownHeadingCollapsed": true,
    "tags": []
   },
   "source": [
    "## import libraries"
   ]
  },
  {
   "cell_type": "markdown",
   "id": "42b2fdf4-13a2-4695-b124-20da4557e43c",
   "metadata": {
    "jp-MarkdownHeadingCollapsed": true,
    "tags": []
   },
   "source": [
    "### pip install"
   ]
  },
  {
   "cell_type": "code",
   "execution_count": 16,
   "id": "7e225112-c12c-4efb-86ed-dacbbe299d8b",
   "metadata": {},
   "outputs": [],
   "source": [
    "#pip install\n",
    "!pip install faiss-gpu --quiet\n",
    "!pip install boto3 --quiet\n",
    "!pip install langchain-aws --quiet\n",
    "!pip install langchain-community boto3 --quiet\n",
    "!pip install boto3 requests requests-aws4auth --quiet\n",
    "!pip install pymongo --quiet\n",
    "!pip install google-search-results sagemaker --quiet\n",
    "!pip install boto3 nltk --quiet\n",
    "!pip install wikipedia --quiet\n",
    "!pip install tavily-python --quiet\n",
    "!pip install --upgrade langchain sympy numexpr --quiet\n",
    "!pip install langchain-experimental --quiet\n",
    "!pip install -U langgraph langchain_community langchain_anthropic langchain_experimental --quiet\n",
    "!pip install langchain-redis langchain-openai redis --quiet\n",
    "#!docker run -d -p 6379:6379 redis:latest --quiet"
   ]
  },
  {
   "cell_type": "markdown",
   "id": "07d068f9-5ea7-4f99-8fc6-564e0baddabd",
   "metadata": {
    "jp-MarkdownHeadingCollapsed": true,
    "tags": []
   },
   "source": [
    "### libraries"
   ]
  },
  {
   "cell_type": "code",
   "execution_count": 2,
   "id": "c8058994-f18c-4091-a948-0cefd9949786",
   "metadata": {
    "tags": []
   },
   "outputs": [
    {
     "name": "stderr",
     "output_type": "stream",
     "text": [
      "USER_AGENT environment variable not set, consider setting it to identify your requests.\n"
     ]
    }
   ],
   "source": [
    "import boto3\n",
    "import os\n",
    "from langchain import hub\n",
    "\n",
    "#chat models\n",
    "from langchain_aws import ChatBedrock\n",
    "from langchain_aws import ChatBedrockConverse\n",
    "\n",
    "#LLMs\n",
    "from langchain_aws import BedrockLLM\n",
    "from langchain_community.llms import AmazonAPIGateway\n",
    "from langchain_aws import SagemakerEndpoint\n",
    "\n",
    "#prompts\n",
    "from langchain.prompts import PromptTemplate\n",
    "\n",
    "#embedding models\n",
    "from langchain_aws import BedrockEmbeddings\n",
    "# from langchain_community.embeddings import BedrockEmbeddings\n",
    "from langchain_community.embeddings import SagemakerEndpointEmbeddings\n",
    "from langchain_community.llms.sagemaker_endpoint import ContentHandlerBase\n",
    "\n",
    "#document loaders\n",
    "from langchain_community.document_loaders import S3DirectoryLoader, S3FileLoader\n",
    "from langchain_community.document_loaders import AmazonTextractPDFLoader\n",
    "\n",
    "#vector stores\n",
    "from langchain_community.vectorstores import OpenSearchVectorSearch\n",
    "from langchain_community.vectorstores import DocumentDBVectorSearch\n",
    "\n",
    "from langchain_aws.vectorstores.inmemorydb import InMemoryVectorStore\n",
    "\n",
    "#retrievers\n",
    "from langchain_aws import AmazonKendraRetriever\n",
    "from langchain_aws import AmazonKnowledgeBasesRetriever\n",
    "\n",
    "#memory\n",
    "from langchain_community.chat_message_histories import DynamoDBChatMessageHistory\n",
    "from langchain_community.chat_message_histories.redis import RedisChatMessageHistory\n",
    "from langchain.memory import ChatMessageHistory\n",
    "from langchain_core.runnables.history import RunnableWithMessageHistory\n",
    "from langchain_core.runnables import RunnableLambda\n",
    "from langchain_core.runnables import ConfigurableFieldSpec\n",
    "from langchain_core.runnables import RunnablePassthrough\n",
    "\n",
    "#graphs\n",
    "from langchain_community.graphs import NeptuneGraph\n",
    "from langchain_community.graphs import NeptuneAnalyticsGraph\n",
    "from langchain_community.chains.graph_qa.neptune_cypher import NeptuneOpenCypherQAChain\n",
    "\n",
    "from langchain_community.graphs import NeptuneRdfGraph\n",
    "from langchain_community.chains.graph_qa.neptune_sparql import NeptuneSparqlQAChain\n",
    "\n",
    "#callbacks\n",
    "from langchain_community.callbacks.bedrock_anthropic_callback import BedrockAnthropicTokenUsageCallbackHandler\n",
    "from langchain_community.callbacks import SageMakerCallbackHandler\n",
    "\n",
    "#chains\n",
    "# from langchain_experimental.comprehend_moderation import AmazonComprehendModerationChain\n",
    "\n",
    "#tavily\n",
    "from tavily import TavilyClient\n",
    "from langchain_community.tools.tavily_search import TavilySearchResults\n",
    "\n",
    "#tools\n",
    "from langchain.agents import initialize_agent, Tool, load_tools\n",
    "from langchain.tools import BaseTool\n",
    "from langchain_community.document_loaders import WebBaseLoader\n",
    "from langchain_community.vectorstores import FAISS\n",
    "from langchain_text_splitters import RecursiveCharacterTextSplitter\n",
    "from langchain.document_loaders import DirectoryLoader, CSVLoader\n",
    "from langchain.tools.retriever import create_retriever_tool\n",
    "from langchain_core.tools import Tool\n",
    "from langchain_experimental.utilities import PythonREPL\n",
    "\n",
    "#agent\n",
    "from langchain.agents import create_tool_calling_agent, AgentType\n",
    "from langchain.agents import AgentExecutor\n",
    "from langchain.chat_models import ChatOpenAI"
   ]
  },
  {
   "cell_type": "markdown",
   "id": "0ea6f714-acc1-4ef3-9382-b7d51736a8c0",
   "metadata": {
    "tags": []
   },
   "source": [
    "## setup agent"
   ]
  },
  {
   "cell_type": "markdown",
   "id": "d71bcaad-be79-4c36-a288-4a7b06bac3b1",
   "metadata": {
    "tags": []
   },
   "source": [
    "### setup llm"
   ]
  },
  {
   "cell_type": "code",
   "execution_count": 3,
   "id": "258077e7-1dc8-40f4-84b9-66f19ea85152",
   "metadata": {
    "tags": []
   },
   "outputs": [],
   "source": [
    "model_parameter = {\"temperature\": 0.9, \"top_p\": .5, \"max_tokens_to_sample\": 200}\n",
    "modelId = \"anthropic.claude-3-sonnet-20240229-v1:0\"\n",
    "bedrock_llm = ChatBedrock(\n",
    "    model_id=modelId,\n",
    "    client=boto3.client('bedrock'),\n",
    "    model_kwargs=model_parameter, \n",
    "    beta_use_converse_api=True\n",
    ")"
   ]
  },
  {
   "cell_type": "code",
   "execution_count": 4,
   "id": "9d500b9b-3eb3-4fa5-bcec-e3096fb5c4ac",
   "metadata": {
    "tags": []
   },
   "outputs": [],
   "source": [
    "embeddings = BedrockEmbeddings(\n",
    "    client=boto3.client('bedrock-runtime', region_name=\"us-east-1\"),\n",
    "    model_id = \"amazon.titan-embed-text-v2:0\"\n",
    ")"
   ]
  },
  {
   "cell_type": "markdown",
   "id": "41b38d85-b340-4e1a-9629-19c74cd53d5c",
   "metadata": {
    "tags": []
   },
   "source": [
    "### initiate tools"
   ]
  },
  {
   "cell_type": "code",
   "execution_count": 5,
   "id": "b8c5e45e-cca8-4d23-929f-6fb03f25f505",
   "metadata": {
    "tags": []
   },
   "outputs": [],
   "source": [
    "os.environ[\"TAVILY_API_KEY\"] = \"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\"\n",
    "search = TavilySearchResults()"
   ]
  },
  {
   "cell_type": "code",
   "execution_count": 8,
   "id": "3b88c4be-cd48-406b-9e1c-e7d031236b12",
   "metadata": {
    "tags": []
   },
   "outputs": [],
   "source": [
    "prompt = PromptTemplate(\n",
    "    input_variables=[\"input\", \"agent_scratchpad\"],  # Include both input and agent_scratchpad\n",
    "    template=\"\"\"\n",
    "    \n",
    "If the input is to do with retail or an item to buy, do the following:\n",
    "\n",
    "Use the retriever tool to answer any queries related to internal data files. \n",
    "Only use external tools (like Wikipedia) if no relevant information is found internally.\n",
    "When asked about a specific item output the answers to the following queries: \n",
    "\n",
    "Should this item be ordered? \n",
    "Find out what date it is currently using date time tool. Convert the month and year into strings and use these for the rest of the answer.\n",
    "Use recent stock statistics to see if the stocks for this month are low compared to how much was used last month.\n",
    "Use the statistics from last year to predict how much of each item will be needed for the rest of this month and next month.\n",
    "Use what month it is at the time the call is being made and whether any important holidays eg christmas or summer will be coming up and use this information in your decision.\n",
    "a) how much should be ordered for this month and next month\n",
    "b) how much should be ordered in the next few months\n",
    "\n",
    "\n",
    "What brand?\n",
    "Use the customers reviews to decide this. \n",
    "\n",
    "If this item should be ordered, how much of this item should be ordered?\n",
    "Use the repl tool to calculate these numbers.\n",
    "\n",
    "In your final output:\n",
    "1. Explain your reasoning for whether an item should be ordered and how much.\n",
    "Don't explain your reasoning for\n",
    "Explain the maths you used.\n",
    "2. Draft an email to an imaginary supplier of this brand to order the number of the item you think should be ordered, signing off as Reply Auto Replenishment.\n",
    "\n",
    "Else:\n",
    "Answer the question appropriately using multiple tools to verify your answer\n",
    "\n",
    "Query: {input}\n",
    "\n",
    "{agent_scratchpad}\n",
    "\"\"\"\n",
    ")\n"
   ]
  },
  {
   "cell_type": "code",
   "execution_count": 6,
   "id": "3e482e00-4c73-49f5-94b1-b13b7b88361c",
   "metadata": {
    "tags": []
   },
   "outputs": [],
   "source": [
    "# Define the path to the directory containing CSV files\n",
    "data_files_directory = \"data_files\"\n",
    "\n",
    "# Use DirectoryLoader to load all CSV files\n",
    "loader = DirectoryLoader(\n",
    "    data_files_directory,\n",
    "    glob=\"**/*.csv\",  # Match all CSV files in the directory (including subdirectories)\n",
    "    loader_cls=CSVLoader  # Use CSVLoader for parsing the files\n",
    ")"
   ]
  },
  {
   "cell_type": "code",
   "execution_count": 7,
   "id": "e266e2be-ed6b-469b-8d4c-8e383a6568ec",
   "metadata": {
    "tags": []
   },
   "outputs": [],
   "source": [
    "docs = loader.load()\n",
    "documents = RecursiveCharacterTextSplitter(\n",
    "    chunk_size=1000, chunk_overlap=200\n",
    ").split_documents(docs)\n",
    "vector = FAISS.from_documents(documents, embeddings)\n",
    "retriever = vector.as_retriever()\n",
    "\n",
    "retriever_tool = create_retriever_tool(\n",
    "    retriever,\n",
    "    \"Retriever_tool\",\n",
    "    \"First search internal data files to answer any queries. If there is no useful information then use other tools.\",\n",
    ")"
   ]
  },
  {
   "cell_type": "code",
   "execution_count": 9,
   "id": "9a2de580-b4be-4041-99e8-9be9077d7af7",
   "metadata": {
    "tags": []
   },
   "outputs": [],
   "source": [
    "#datetime tool\n",
    "from datetime import datetime\n",
    "datetime_tool = Tool(\n",
    "    name=\"Datetime\",\n",
    "    func=lambda x: datetime.now().isoformat(),\n",
    "    description=\"Returns the current datetime\",\n",
    ")\n"
   ]
  },
  {
   "cell_type": "code",
   "execution_count": 12,
   "id": "54eeae47-5495-42af-a107-bc96c609345c",
   "metadata": {
    "tags": []
   },
   "outputs": [],
   "source": [
    "#loading in tools\n",
    "\n",
    "python_repl = PythonREPL()\n",
    "repl_tool = Tool(\n",
    "    name=\"python_repl\",\n",
    "    description=\"Use this to execute python commands and calculations.\",\n",
    "    func=python_repl.run,\n",
    ")\n",
    "wikipedia_tool = load_tools([\"wikipedia\"], llm=bedrock_llm)\n",
    "\n",
    "tools = [datetime_tool,retriever_tool,search,repl_tool,wikipedia_tool[0]]"
   ]
  },
  {
   "cell_type": "markdown",
   "id": "87079bfa-1a0a-4949-a9b9-df221344c39e",
   "metadata": {
    "tags": []
   },
   "source": [
    "# running agent"
   ]
  },
  {
   "cell_type": "code",
   "execution_count": 21,
   "id": "c3dd0fbd-e8dd-46c3-a2ca-ee4a5e3ecc39",
   "metadata": {
    "tags": []
   },
   "outputs": [],
   "source": [
    "def run_agent(prompt,agent_input,raw_list,verbose_setting):\n",
    "    agent = create_tool_calling_agent(bedrock_llm, tools, prompt)\n",
    "    agent_executor = AgentExecutor(agent=agent, tools=tools, verbose=verbose_setting,handle_parsing_errors=True)\n",
    "    response = agent_executor.invoke({\"input\": agent_input})\n",
    "    raw_output = response['output'][0]['text']\n",
    "    raw_list.append(raw_output)"
   ]
  },
  {
   "cell_type": "code",
   "execution_count": 44,
   "id": "737112a7-f19d-46e7-8d17-a8fa4fc8c798",
   "metadata": {
    "tags": []
   },
   "outputs": [
    {
     "name": "stdout",
     "output_type": "stream",
     "text": [
      "\n",
      "\n",
      "\u001b[1m> Entering new AgentExecutor chain...\u001b[0m\n",
      "\u001b[32;1m\u001b[1;3m\n",
      "Invoking: `Retriever_tool` with `{'query': 'christmas pudding'}`\n",
      "responded: [{'type': 'tool_use', 'name': 'Retriever_tool', 'id': 'tooluse_lYO1E4aKSYmAOvqUcI_MJg', 'index': 0, 'input': '{\"query\": \"christmas pudding\"}'}]\n",
      "\n",
      "\u001b[0m\u001b[33;1m\u001b[1;3mItem: Christmas Pudding\n",
      "Jan: 0\n",
      "Feb: 0\n",
      "Mar: 0\n",
      "Apr: 0\n",
      "May: 0\n",
      "Jun: 0\n",
      "Jul: 0\n",
      "Aug: 0\n",
      "Sep: 0\n",
      "Oct: 0\n",
      "Nov: 0\n",
      "Dec: 20\n",
      "Brand_A_Jan: 0\n",
      "Brand_A_Feb: 0\n",
      "Brand_A_Mar: 0\n",
      "Brand_A_Apr: 0\n",
      "Brand_A_May: 0\n",
      "Brand_A_Jun: 0\n",
      "Brand_A_Jul: 0\n",
      "Brand_A_Aug: 0\n",
      "Brand_A_Sep: 0\n",
      "Brand_A_Oct: 0\n",
      "Brand_A_Nov: 0\n",
      "Brand_A_Dec: 12\n",
      "Brand_B_Jan: 0\n",
      "Brand_B_Feb: 0\n",
      "Brand_B_Mar: 0\n",
      "Brand_B_Apr: 0\n",
      "Brand_B_May: 0\n",
      "Brand_B_Jun: 0\n",
      "Brand_B_Jul: 0\n",
      "Brand_B_Aug: 0\n",
      "Brand_B_Sep: 0\n",
      "Brand_B_Oct: 0\n",
      "Brand_B_Nov: 0\n",
      "Brand_B_Dec: 8\n",
      "Brand_C_Jan: 0\n",
      "Brand_C_Feb: 0\n",
      "Brand_C_Mar: 0\n",
      "Brand_C_Apr: 0\n",
      "Brand_C_May: 0\n",
      "Brand_C_Jun: 0\n",
      "Brand_C_Jul: 0\n",
      "Brand_C_Aug: 0\n",
      "Brand_C_Sep: 0\n",
      "Brand_C_Oct: 0\n",
      "Brand_C_Nov: 0\n",
      "Brand_C_Dec: 0\n",
      "\n",
      "Item: Christmas Pudding\n",
      "Used_Last_Month: 5\n",
      "Left_This_Month: 2\n",
      "Brand_A_Used_Last_Month: 3\n",
      "Brand_A_Left_This_Month: 0\n",
      "Brand_B_Used_Last_Month: 1\n",
      "Brand_B_Left_This_Month: 2\n",
      "Brand_C_Used_Last_Month: 1\n",
      "Brand_C_Left_This_Month: 0\n",
      "\n",
      "Item: Christmas Pudding\n",
      "Brand_A: [\"Not sure I'd buy it again.\", 'Could have been better in some ways.', 'A bit disappointing compared to others.', 'Not quite what I hoped for.', 'Had some issues, not thrilled.']\n",
      "Brand_B: ['Decent for the price.', 'It was okay, nothing special.', 'Met my expectations, no more, no less.', 'An average experience overall.', 'Not bad, but could improve.']\n",
      "Brand_C: ['An average experience overall.', 'Decent for the price.', 'It was okay, nothing special.', 'Met my expectations, no more, no less.', 'Not bad, but could improve.']\n",
      "\n",
      "Item: Bread\n",
      "Jan: 71\n",
      "Feb: 34\n",
      "Mar: 91\n",
      "Apr: 80\n",
      "May: 40\n",
      "Jun: 94\n",
      "Jul: 94\n",
      "Aug: 43\n",
      "Sep: 22\n",
      "Oct: 41\n",
      "Nov: 72\n",
      "Dec: 21\n",
      "Brand_A_Jan: 26\n",
      "Brand_A_Feb: 30\n",
      "Brand_A_Mar: 16\n",
      "Brand_A_Apr: 51\n",
      "Brand_A_May: 3\n",
      "Brand_A_Jun: 62\n",
      "Brand_A_Jul: 82\n",
      "Brand_A_Aug: 26\n",
      "Brand_A_Sep: 5\n",
      "Brand_A_Oct: 7\n",
      "Brand_A_Nov: 67\n",
      "Brand_A_Dec: 13\n",
      "Brand_B_Jan: 51\n",
      "Brand_B_Feb: 6\n",
      "Brand_B_Mar: 67\n",
      "Brand_B_Apr: 78\n",
      "Brand_B_May: 27\n",
      "Brand_B_Jun: 42\n",
      "Brand_B_Jul: 67\n",
      "Brand_B_Aug: 10\n",
      "Brand_B_Sep: 17\n",
      "Brand_B_Oct: 2\n",
      "Brand_B_Nov: 9\n",
      "Brand_B_Dec: 8\n",
      "Brand_C_Jan: 0\n",
      "Brand_C_Feb: 0\n",
      "Brand_C_Mar: 8\n",
      "Brand_C_Apr: 0\n",
      "Brand_C_May: 10\n",
      "Brand_C_Jun: 0\n",
      "Brand_C_Jul: 0\n",
      "Brand_C_Aug: 7\n",
      "Brand_C_Sep: 0\n",
      "Brand_C_Oct: 32\n",
      "Brand_C_Nov: 0\n",
      "Brand_C_Dec: 0\u001b[0m\u001b[32;1m\u001b[1;3m\n",
      "Invoking: `Datetime` with `{'Arg1': 'Get current datetime'}`\n",
      "responded: [{'type': 'tool_use', 'name': 'Datetime', 'id': 'tooluse_DsAv9ZzXR8CroHEfazL49w', 'index': 0, 'input': '{\"Arg1\": \"Get current datetime\"}'}]\n",
      "\n",
      "\u001b[0m\u001b[36;1m\u001b[1;3m2024-12-12T12:50:17.872762\u001b[0m\u001b[32;1m\u001b[1;3m[{'type': 'text', 'text': \"Based on the internal data provided, here is my analysis and recommendation for ordering Christmas puddings:\\n\\nShould this item be ordered?\\nYes, Christmas pudding should definitely be ordered for the upcoming holiday season.\\n\\nThe current date is December 12, 2024. \\n\\nLooking at the stock statistics, in December of last year there was a total of 20 units of Christmas pudding sold, with Brand A selling 12 units, Brand B selling 8 units, and no sales for Brand C.\\n\\nHowever, as of the end of last month (November), there were only 2 units left in stock. Given that December is the peak month for Christmas pudding sales, the current inventory is very low compared to what was sold last December.\\n\\nTo predict demand for this month and next:\\n- Last December there were 20 units sold total\\n- Assuming a similar demand this year, we should order at least 20 units for December 2024\\n- For January 2025, no Christmas pudding was sold last January, so we likely don't need to order extra for that month\\n\\nRegarding brand selection, based on the customer reviews provided:\\n- Brand A had mostly negative reviews \\n- Brand B and Brand C had average/decent reviews\\n\\nI would recommend ordering Brand B Christmas puddings, as they had better reviews than Brand A and similar reviews to Brand C while also having higher sales last year.\\n\\nCalculating order quantity:\\n- Order 20 units of Brand B for December 2024 to cover expected demand\\n- Do not order extra for January 2025 based on last year's data\\n\\nHere is a draft email to a Brand B supplier to place this order:\\n\\nSubject: Christmas Pudding Order for December 2024\\n\\nDear Brand B Supplier,\\n\\nWe would like to place an order for 20 units of your Brand B Christmas Puddings for delivery by December 15, 2024. This is to cover expected demand for the upcoming holiday season based on sales data from previous years.\\n\\nPlease confirm pricing, delivery timeline, and any other relevant details at your earliest convenience.\\n\\nThank you,\\nReply Auto Replenishment\", 'index': 0}]\u001b[0m\n",
      "\n",
      "\u001b[1m> Finished chain.\u001b[0m\n",
      "--------------------\n",
      "Based on the internal data provided, here is my analysis and recommendation for ordering Christmas puddings:\n",
      "\n",
      "Should this item be ordered?\n",
      "Yes, Christmas pudding should definitely be ordered for the upcoming holiday season.\n",
      "\n",
      "The current date is December 12, 2024. \n",
      "\n",
      "Looking at the stock statistics, in December of last year there was a total of 20 units of Christmas pudding sold, with Brand A selling 12 units, Brand B selling 8 units, and no sales for Brand C.\n",
      "\n",
      "However, as of the end of last month (November), there were only 2 units left in stock. Given that December is the peak month for Christmas pudding sales, the current inventory is very low compared to what was sold last December.\n",
      "\n",
      "To predict demand for this month and next:\n",
      "- Last December there were 20 units sold total\n",
      "- Assuming a similar demand this year, we should order at least 20 units for December 2024\n",
      "- For January 2025, no Christmas pudding was sold last January, so we likely don't need to order extra for that month\n",
      "\n",
      "Regarding brand selection, based on the customer reviews provided:\n",
      "- Brand A had mostly negative reviews \n",
      "- Brand B and Brand C had average/decent reviews\n",
      "\n",
      "I would recommend ordering Brand B Christmas puddings, as they had better reviews than Brand A and similar reviews to Brand C while also having higher sales last year.\n",
      "\n",
      "Calculating order quantity:\n",
      "- Order 20 units of Brand B for December 2024 to cover expected demand\n",
      "- Do not order extra for January 2025 based on last year's data\n",
      "\n",
      "Here is a draft email to a Brand B supplier to place this order:\n",
      "\n",
      "Subject: Christmas Pudding Order for December 2024\n",
      "\n",
      "Dear Brand B Supplier,\n",
      "\n",
      "We would like to place an order for 20 units of your Brand B Christmas Puddings for delivery by December 15, 2024. This is to cover expected demand for the upcoming holiday season based on sales data from previous years.\n",
      "\n",
      "Please confirm pricing, delivery timeline, and any other relevant details at your earliest convenience.\n",
      "\n",
      "Thank you,\n",
      "Reply Auto Replenishment\n",
      "\n",
      "\n",
      "--------------------\n",
      "This item is suncream, which is a seasonal product typically used more in the warmer spring and summer months. Based on the internal data provided:\n",
      "\n",
      "Should this item be ordered?\n",
      "Yes, suncream should be ordered for the upcoming months.\n",
      "\n",
      "Find out what date it is currently using datetime tool. Convert the month and year into strings and use these for the rest of the answer.\n",
      "The current date is 2024-12-12 12:50:32, so the month is December and the year is 2024.\n",
      "\n",
      "Use recent stock statistics to see if the stocks for this month are low compared to how much was used last month. \n",
      "For December, the stock left is 0, while 20 units were used in November, so stocks are very low for this month compared to last month's usage.\n",
      "\n",
      "Use the statistics from last year to predict how much of each item will be needed for the rest of this month and next month.\n",
      "Looking at last year's data:\n",
      "December had 0 units sold\n",
      "January had 0 units sold\n",
      "So for the rest of December 2024 and January 2025, very little to no suncream is expected to be needed based on last year.\n",
      "\n",
      "Use what month it is at the time the call is being made and whether any important holidays eg christmas or summer will be coming up and use this information in your decision.\n",
      "Since this call is being made in December, after the summer months when suncream is most needed, and there are no major holidays coming up soon that would increase suncream usage, only a small restock is likely needed for December and January.\n",
      "\n",
      "a) How much should be ordered for this month and next month?\n",
      "For December 2024, order 20 units to replenish what was used in November.\n",
      "For January 2025, order 10 units based on typical low usage.\n",
      "So order 20 + 10 = 30 units total for December 2024 and January 2025.\n",
      "\n",
      "b) How much should be ordered in the next few months?\n",
      "Looking ahead to spring/summer 2025:\n",
      "February 2025: Order 20 units \n",
      "March 2025: Order 30 units\n",
      "April 2025: Order 50 units\n",
      "May 2025: Order 80 units\n",
      "\n",
      "What brand?\n",
      "Based on the customer review data provided:\n",
      "Brand A has the most positive reviews like \"Glad I chose this brand\", \"Pretty satisfied overall\", indicating it is a good quality popular brand.\n",
      "Brand B has more neutral/average reviews like \"It was okay, nothing special.\"\n",
      "Brand C has more negative reviews like \"A bit disappointing compared to others.\"\n",
      "\n",
      "So Brand A seems to be the best brand to order for suncream.\n",
      "\n",
      "If this item should be ordered, how much of this item should be ordered?\n",
      "Calculating the total units needed:\n",
      "December 2024: 20\n",
      "January 2025: 10\n",
      "February 2025: 20\n",
      "March 2025: 30\n",
      "April 2025: 50\n",
      "May 2025: 80\n",
      "\n",
      "20 + 10 + 20 + 30 + 50 + 80 = 210 units of Brand A suncream should be ordered total over the next 6 months.\n",
      "\n",
      "In summary, 210 units of Brand A suncream should be ordered total for the next 6 months, with 30 units for December 2024 and January 2025, and higher amounts ordered starting in February 2025 through May 2025 to prepare for the spring/summer suncream demand.\n",
      "\n",
      "Draft email:\n",
      "\n",
      "To: Brand A Supplier \n",
      "From: Reply Auto Replenishment\n",
      "\n",
      "Subject: Suncream Order for Next 6 Months\n",
      "\n",
      "Dear Brand A Supplier,\n",
      "\n",
      "Based on our analysis of current inventory levels and anticipated seasonal demand, we would like to place an order for 210 units of your Brand A suncream to be delivered over the next 6 months.\n",
      "\n",
      "Please send:\n",
      "- 30 units for December 2024 and January 2025 delivery\n",
      "- 20 units for February 2025 delivery \n",
      "- 30 units for March 2025 delivery\n",
      "- 50 units for April 2025 delivery\n",
      "- 80 units for May 2025 delivery\n",
      "\n",
      "Our data shows your Brand A suncream products are highly rated by our customers. We look forward to receiving this order to ensure we have sufficient stock for the upcoming spring and summer seasons.\n",
      "\n",
      "Thank you,\n",
      "Reply Auto Replenishment\n",
      "\n",
      "\n"
     ]
    }
   ],
   "source": [
    "raw_list = []\n",
    "run_agent(prompt,'christmas pudding',raw_list,True)\n",
    "run_agent(prompt,'suncream',raw_list,False)\n",
    "for i in range(len(raw_list)):\n",
    "    print('-'*20)\n",
    "    print(raw_list[i])\n",
    "    print('\\n') "
   ]
  }
 ],
 "metadata": {
  "kernelspec": {
   "display_name": "conda_python3",
   "language": "python",
   "name": "conda_python3"
  },
  "language_info": {
   "codemirror_mode": {
    "name": "ipython",
    "version": 3
   },
   "file_extension": ".py",
   "mimetype": "text/x-python",
   "name": "python",
   "nbconvert_exporter": "python",
   "pygments_lexer": "ipython3",
   "version": "3.10.15"
  }
 },
 "nbformat": 4,
 "nbformat_minor": 5
}
