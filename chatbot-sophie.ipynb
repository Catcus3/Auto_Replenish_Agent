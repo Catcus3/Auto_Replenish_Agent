{
 "cells": [
  {
   "cell_type": "markdown",
   "id": "21faa523-2dfa-49e9-84cc-106097d92a69",
   "metadata": {
    "tags": []
   },
   "source": [
    "## import libraries"
   ]
  },
  {
   "cell_type": "markdown",
   "id": "42b2fdf4-13a2-4695-b124-20da4557e43c",
   "metadata": {
    "jp-MarkdownHeadingCollapsed": true,
    "tags": []
   },
   "source": [
    "### pip install"
   ]
  },
  {
   "cell_type": "code",
   "execution_count": 1,
   "id": "7e225112-c12c-4efb-86ed-dacbbe299d8b",
   "metadata": {},
   "outputs": [],
   "source": [
    "#pip install\n",
    "!pip install faiss-gpu --quiet\n",
    "!pip install boto3 --quiet\n",
    "!pip install langchain-aws --quiet\n",
    "!pip install langchain-community boto3 --quiet\n",
    "!pip install boto3 requests requests-aws4auth --quiet\n",
    "!pip install pymongo --quiet\n",
    "!pip install google-search-results sagemaker --quiet\n",
    "!pip install boto3 nltk --quiet\n",
    "!pip install wikipedia --quiet\n",
    "!pip install tavily-python --quiet\n",
    "!pip install --upgrade langchain sympy numexpr --quiet\n",
    "!pip install langchain-experimental --quiet\n",
    "!pip install -U langgraph langchain_community langchain_anthropic langchain_experimental --quiet\n",
    "!pip install langchain-redis langchain-openai redis --quiet\n",
    "#!docker run -d -p 6379:6379 redis:latest --quiet"
   ]
  },
  {
   "cell_type": "markdown",
   "id": "07d068f9-5ea7-4f99-8fc6-564e0baddabd",
   "metadata": {
    "tags": []
   },
   "source": [
    "### libraries"
   ]
  },
  {
   "cell_type": "code",
   "execution_count": 2,
   "id": "c8058994-f18c-4091-a948-0cefd9949786",
   "metadata": {
    "tags": []
   },
   "outputs": [
    {
     "name": "stderr",
     "output_type": "stream",
     "text": [
      "USER_AGENT environment variable not set, consider setting it to identify your requests.\n"
     ]
    }
   ],
   "source": [
    "import boto3\n",
    "import os\n",
    "from langchain import hub\n",
    "\n",
    "#chat models\n",
    "from langchain_aws import ChatBedrock\n",
    "from langchain_aws import ChatBedrockConverse\n",
    "\n",
    "#LLMs\n",
    "from langchain_aws import BedrockLLM\n",
    "from langchain_community.llms import AmazonAPIGateway\n",
    "from langchain_aws import SagemakerEndpoint\n",
    "\n",
    "#prompts\n",
    "from langchain.prompts import PromptTemplate\n",
    "\n",
    "#embedding models\n",
    "from langchain_aws import BedrockEmbeddings\n",
    "# from langchain_community.embeddings import BedrockEmbeddings\n",
    "from langchain_community.embeddings import SagemakerEndpointEmbeddings\n",
    "from langchain_community.llms.sagemaker_endpoint import ContentHandlerBase\n",
    "\n",
    "#document loaders\n",
    "from langchain_community.document_loaders import S3DirectoryLoader, S3FileLoader\n",
    "from langchain_community.document_loaders import AmazonTextractPDFLoader\n",
    "\n",
    "#vector stores\n",
    "from langchain_community.vectorstores import OpenSearchVectorSearch\n",
    "from langchain_community.vectorstores import DocumentDBVectorSearch\n",
    "\n",
    "from langchain_aws.vectorstores.inmemorydb import InMemoryVectorStore\n",
    "\n",
    "#retrievers\n",
    "from langchain_aws import AmazonKendraRetriever\n",
    "from langchain_aws import AmazonKnowledgeBasesRetriever\n",
    "\n",
    "#memory\n",
    "from langchain_community.chat_message_histories import DynamoDBChatMessageHistory\n",
    "from langchain_community.chat_message_histories.redis import RedisChatMessageHistory\n",
    "from langchain.memory import ChatMessageHistory\n",
    "from langchain_core.runnables.history import RunnableWithMessageHistory\n",
    "from langchain_core.runnables import RunnableLambda\n",
    "from langchain_core.runnables import ConfigurableFieldSpec\n",
    "from langchain_core.runnables import RunnablePassthrough\n",
    "\n",
    "#graphs\n",
    "from langchain_community.graphs import NeptuneGraph\n",
    "from langchain_community.graphs import NeptuneAnalyticsGraph\n",
    "from langchain_community.chains.graph_qa.neptune_cypher import NeptuneOpenCypherQAChain\n",
    "\n",
    "from langchain_community.graphs import NeptuneRdfGraph\n",
    "from langchain_community.chains.graph_qa.neptune_sparql import NeptuneSparqlQAChain\n",
    "\n",
    "#callbacks\n",
    "from langchain_community.callbacks.bedrock_anthropic_callback import BedrockAnthropicTokenUsageCallbackHandler\n",
    "from langchain_community.callbacks import SageMakerCallbackHandler\n",
    "\n",
    "#chains\n",
    "# from langchain_experimental.comprehend_moderation import AmazonComprehendModerationChain\n",
    "\n",
    "#tavily\n",
    "from tavily import TavilyClient\n",
    "from langchain_community.tools.tavily_search import TavilySearchResults\n",
    "\n",
    "#tools\n",
    "from langchain.agents import initialize_agent, Tool, load_tools\n",
    "from langchain.tools import BaseTool\n",
    "from langchain_community.document_loaders import WebBaseLoader\n",
    "from langchain_community.vectorstores import FAISS\n",
    "from langchain_text_splitters import RecursiveCharacterTextSplitter\n",
    "from langchain.document_loaders import DirectoryLoader, CSVLoader\n",
    "from langchain.tools.retriever import create_retriever_tool\n",
    "from langchain_core.tools import Tool\n",
    "from langchain_experimental.utilities import PythonREPL\n",
    "\n",
    "#agent\n",
    "from langchain.agents import create_tool_calling_agent, AgentType\n",
    "from langchain.agents import AgentExecutor\n",
    "from langchain.chat_models import ChatOpenAI"
   ]
  },
  {
   "cell_type": "markdown",
   "id": "0ea6f714-acc1-4ef3-9382-b7d51736a8c0",
   "metadata": {
    "tags": []
   },
   "source": [
    "## setup agent"
   ]
  },
  {
   "cell_type": "markdown",
   "id": "d71bcaad-be79-4c36-a288-4a7b06bac3b1",
   "metadata": {
    "tags": []
   },
   "source": [
    "### setup llm"
   ]
  },
  {
   "cell_type": "code",
   "execution_count": 3,
   "id": "258077e7-1dc8-40f4-84b9-66f19ea85152",
   "metadata": {
    "tags": []
   },
   "outputs": [],
   "source": [
    "model_parameter = {\"temperature\": 0.9, \"top_p\": .5, \"max_tokens_to_sample\": 200}\n",
    "modelId = \"anthropic.claude-3-sonnet-20240229-v1:0\"\n",
    "bedrock_llm = ChatBedrock(\n",
    "    model_id=modelId,\n",
    "    client=boto3.client('bedrock'),\n",
    "    model_kwargs=model_parameter, \n",
    "    beta_use_converse_api=True\n",
    ")"
   ]
  },
  {
   "cell_type": "code",
   "execution_count": 4,
   "id": "9d500b9b-3eb3-4fa5-bcec-e3096fb5c4ac",
   "metadata": {
    "tags": []
   },
   "outputs": [],
   "source": [
    "embeddings = BedrockEmbeddings(\n",
    "    client=boto3.client('bedrock-runtime', region_name=\"us-east-1\"),\n",
    "    model_id = \"amazon.titan-embed-text-v2:0\"\n",
    ")"
   ]
  },
  {
   "cell_type": "markdown",
   "id": "41b38d85-b340-4e1a-9629-19c74cd53d5c",
   "metadata": {
    "tags": []
   },
   "source": [
    "### initiate tools"
   ]
  },
  {
   "cell_type": "code",
   "execution_count": 5,
   "id": "b8c5e45e-cca8-4d23-929f-6fb03f25f505",
   "metadata": {
    "tags": []
   },
   "outputs": [],
   "source": [
    "os.environ[\"TAVILY_API_KEY\"] = \"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\"\n",
    "search = TavilySearchResults()"
   ]
  },
  {
   "cell_type": "code",
   "execution_count": 44,
   "id": "3b88c4be-cd48-406b-9e1c-e7d031236b12",
   "metadata": {
    "tags": []
   },
   "outputs": [],
   "source": [
    "prompt = PromptTemplate(\n",
    "    input_variables=[\"input\", \"agent_scratchpad\"],  # Include both input and agent_scratchpad\n",
    "    template=\"\"\"\n",
    "    \n",
    "If the input is to do with retail or an item to buy, do the following:\n",
    "\n",
    "Use the retriever tool to answer any queries related to internal data files. \n",
    "Only use external tools (like Wikipedia) if no relevant information is found internally.\n",
    "When asked about a specific item output the answers to the following queries: \n",
    "\n",
    "Should this item be ordered? \n",
    "Find out what date it is currently using date time tool. Convert the month and year into strings and use these for the rest of the answer.\n",
    "Use recent stock statistics to see if the stocks for this month are low compared to how much was used last month.\n",
    "Use the statistics from last year to predict how much of each item will be needed for the rest of this month and next month.\n",
    "Use what month it is at the time the call is being made and whether any important holidays eg christmas or summer will be coming up and use this information in your decision.\n",
    "a) how much should be ordered for this month and next month\n",
    "b) how much should be ordered in the next few months\n",
    "\n",
    "\n",
    "What brand?\n",
    "Use the customers reviews to decide this. \n",
    "\n",
    "If this item should be ordered, how much of this item should be ordered?\n",
    "Use the repl tool to calculate these numbers.\n",
    "\n",
    "In your final output:\n",
    "1. Explain your reasoning for whether an item should be ordered and how much.\n",
    "Don't explain your reasoning for\n",
    "Explain the maths you used.\n",
    "2. Draft an email to an imaginary supplier of this brand to order the number of the item you think should be ordered, signing off as Reply Auto Replenishment.\n",
    "\n",
    "Else:\n",
    "Answer the question appropriately using multiple tools to verify your answer\n",
    "\n",
    "Query: {input}\n",
    "\n",
    "{agent_scratchpad}\n",
    "\"\"\"\n",
    ")\n"
   ]
  },
  {
   "cell_type": "code",
   "execution_count": 45,
   "id": "3e482e00-4c73-49f5-94b1-b13b7b88361c",
   "metadata": {
    "tags": []
   },
   "outputs": [],
   "source": [
    "# Define the path to the directory containing CSV files\n",
    "data_files_directory = \"data_files\"\n",
    "\n",
    "# Use DirectoryLoader to load all CSV files\n",
    "loader = DirectoryLoader(\n",
    "    data_files_directory,\n",
    "    glob=\"**/*.csv\",  # Match all CSV files in the directory (including subdirectories)\n",
    "    loader_cls=CSVLoader  # Use CSVLoader for parsing the files\n",
    ")"
   ]
  },
  {
   "cell_type": "code",
   "execution_count": 46,
   "id": "e266e2be-ed6b-469b-8d4c-8e383a6568ec",
   "metadata": {
    "tags": []
   },
   "outputs": [],
   "source": [
    "docs = loader.load()\n",
    "documents = RecursiveCharacterTextSplitter(\n",
    "    chunk_size=1000, chunk_overlap=200\n",
    ").split_documents(docs)\n",
    "vector = FAISS.from_documents(documents, embeddings)\n",
    "retriever = vector.as_retriever()\n",
    "\n",
    "retriever_tool = create_retriever_tool(\n",
    "    retriever,\n",
    "    \"Retriever_tool\",\n",
    "    \"First search internal data files to answer any queries. If there is no useful information then use other tools.\",\n",
    ")"
   ]
  },
  {
   "cell_type": "code",
   "execution_count": 47,
   "id": "9a2de580-b4be-4041-99e8-9be9077d7af7",
   "metadata": {
    "tags": []
   },
   "outputs": [],
   "source": [
    "#datetime tool\n",
    "from datetime import datetime\n",
    "datetime_tool = Tool(\n",
    "    name=\"Datetime\",\n",
    "    func=lambda x: datetime.now().isoformat(),\n",
    "    description=\"Returns the current datetime\",\n",
    ")\n"
   ]
  },
  {
   "cell_type": "code",
   "execution_count": 48,
   "id": "54eeae47-5495-42af-a107-bc96c609345c",
   "metadata": {
    "tags": []
   },
   "outputs": [],
   "source": [
    "#loading in tools\n",
    "\n",
    "python_repl = PythonREPL()\n",
    "repl_tool = Tool(\n",
    "    name=\"python_repl\",\n",
    "    description=\"Use this to execute python commands and calculations.\",\n",
    "    func=python_repl.run,\n",
    ")\n",
    "wikipedia_tool = load_tools([\"wikipedia\"], llm=bedrock_llm)\n",
    "\n",
    "tools = [datetime_tool,retriever_tool,search,repl_tool,wikipedia_tool[0]]"
   ]
  },
  {
   "cell_type": "markdown",
   "id": "87079bfa-1a0a-4949-a9b9-df221344c39e",
   "metadata": {
    "tags": []
   },
   "source": [
    "# running agent"
   ]
  },
  {
   "cell_type": "code",
   "execution_count": 49,
   "id": "c3dd0fbd-e8dd-46c3-a2ca-ee4a5e3ecc39",
   "metadata": {
    "tags": []
   },
   "outputs": [],
   "source": [
    "# def run_agent(prompt,agent_input,raw_list,verbose_setting):\n",
    "#     agent = create_tool_calling_agent(bedrock_llm, tools, prompt)\n",
    "#     agent_executor = AgentExecutor(agent=agent, tools=tools, verbose=verbose_setting,handle_parsing_errors=True)\n",
    "#     response = agent_executor.invoke({\"input\": agent_input})\n",
    "#     raw_output = response['output'][0]['text']\n",
    "#     raw_list.append(raw_output)"
   ]
  },
  {
   "cell_type": "code",
   "execution_count": 50,
   "id": "bf952d8b-0b95-4bc3-9f14-b2a6a3c812a2",
   "metadata": {},
   "outputs": [],
   "source": [
    "agent = create_tool_calling_agent(bedrock_llm, tools, prompt)\n",
    "agent_executor = AgentExecutor(agent=agent, tools=tools, verbose=False,handle_parsing_errors=True)"
   ]
  },
  {
   "cell_type": "code",
   "execution_count": 51,
   "id": "737112a7-f19d-46e7-8d17-a8fa4fc8c798",
   "metadata": {
    "tags": []
   },
   "outputs": [],
   "source": [
    "# raw_list = []\n",
    "# run_agent(prompt,'christmas pudding',raw_list,False)\n",
    "# run_agent(prompt,'suncream',raw_list,False)\n",
    "# for i in range(len(raw_list)):\n",
    "#     print('-'*20)\n",
    "#     print(raw_list[i])\n",
    "#     print('\\n') "
   ]
  },
  {
   "cell_type": "code",
   "execution_count": 52,
   "id": "a7160442-2b94-494f-8a83-f1e0b1c5ea29",
   "metadata": {
    "tags": []
   },
   "outputs": [
    {
     "name": "stdout",
     "output_type": "stream",
     "text": [
      "Requirement already satisfied: gradio in /home/ec2-user/anaconda3/envs/python3/lib/python3.10/site-packages (3.16.1b1)\n",
      "Requirement already satisfied: boto3 in /home/ec2-user/anaconda3/envs/python3/lib/python3.10/site-packages (1.35.76)\n",
      "Requirement already satisfied: aiohttp in /home/ec2-user/anaconda3/envs/python3/lib/python3.10/site-packages (from gradio) (3.10.10)\n",
      "Requirement already satisfied: altair>=4.2.0 in /home/ec2-user/anaconda3/envs/python3/lib/python3.10/site-packages (from gradio) (5.5.0)\n",
      "Requirement already satisfied: fastapi in /home/ec2-user/anaconda3/envs/python3/lib/python3.10/site-packages (from gradio) (0.115.6)\n",
      "Requirement already satisfied: ffmpy in /home/ec2-user/anaconda3/envs/python3/lib/python3.10/site-packages (from gradio) (0.4.0)\n",
      "Requirement already satisfied: fsspec in /home/ec2-user/anaconda3/envs/python3/lib/python3.10/site-packages (from gradio) (2024.10.0)\n",
      "Requirement already satisfied: httpx in /home/ec2-user/anaconda3/envs/python3/lib/python3.10/site-packages (from gradio) (0.27.2)\n",
      "Requirement already satisfied: jinja2 in /home/ec2-user/anaconda3/envs/python3/lib/python3.10/site-packages (from gradio) (3.1.4)\n",
      "Requirement already satisfied: markdown-it-py[linkify,plugins] in /home/ec2-user/anaconda3/envs/python3/lib/python3.10/site-packages (from gradio) (3.0.0)\n",
      "Requirement already satisfied: markupsafe in /home/ec2-user/anaconda3/envs/python3/lib/python3.10/site-packages (from gradio) (2.1.5)\n",
      "Requirement already satisfied: matplotlib in /home/ec2-user/anaconda3/envs/python3/lib/python3.10/site-packages (from gradio) (3.9.2)\n",
      "Requirement already satisfied: numpy in /home/ec2-user/anaconda3/envs/python3/lib/python3.10/site-packages (from gradio) (1.26.4)\n",
      "Requirement already satisfied: orjson in /home/ec2-user/anaconda3/envs/python3/lib/python3.10/site-packages (from gradio) (3.10.12)\n",
      "Requirement already satisfied: pandas in /home/ec2-user/anaconda3/envs/python3/lib/python3.10/site-packages (from gradio) (1.5.3)\n",
      "Requirement already satisfied: pillow in /home/ec2-user/anaconda3/envs/python3/lib/python3.10/site-packages (from gradio) (11.0.0)\n",
      "Requirement already satisfied: pycryptodome in /home/ec2-user/anaconda3/envs/python3/lib/python3.10/site-packages (from gradio) (3.21.0)\n",
      "Requirement already satisfied: pydantic in /home/ec2-user/anaconda3/envs/python3/lib/python3.10/site-packages (from gradio) (2.10.3)\n",
      "Requirement already satisfied: pydub in /home/ec2-user/anaconda3/envs/python3/lib/python3.10/site-packages (from gradio) (0.25.1)\n",
      "Requirement already satisfied: python-multipart in /home/ec2-user/anaconda3/envs/python3/lib/python3.10/site-packages (from gradio) (0.0.19)\n",
      "Requirement already satisfied: pyyaml in /home/ec2-user/anaconda3/envs/python3/lib/python3.10/site-packages (from gradio) (6.0.2)\n",
      "Requirement already satisfied: requests in /home/ec2-user/anaconda3/envs/python3/lib/python3.10/site-packages (from gradio) (2.32.3)\n",
      "Requirement already satisfied: typing-extensions in /home/ec2-user/anaconda3/envs/python3/lib/python3.10/site-packages (from gradio) (4.12.2)\n",
      "Requirement already satisfied: uvicorn in /home/ec2-user/anaconda3/envs/python3/lib/python3.10/site-packages (from gradio) (0.32.1)\n",
      "Requirement already satisfied: websockets>=10.0 in /home/ec2-user/anaconda3/envs/python3/lib/python3.10/site-packages (from gradio) (14.1)\n",
      "Requirement already satisfied: botocore<1.36.0,>=1.35.76 in /home/ec2-user/anaconda3/envs/python3/lib/python3.10/site-packages (from boto3) (1.35.76)\n",
      "Requirement already satisfied: jmespath<2.0.0,>=0.7.1 in /home/ec2-user/anaconda3/envs/python3/lib/python3.10/site-packages (from boto3) (1.0.1)\n",
      "Requirement already satisfied: s3transfer<0.11.0,>=0.10.0 in /home/ec2-user/anaconda3/envs/python3/lib/python3.10/site-packages (from boto3) (0.10.3)\n",
      "Requirement already satisfied: jsonschema>=3.0 in /home/ec2-user/anaconda3/envs/python3/lib/python3.10/site-packages (from altair>=4.2.0->gradio) (4.23.0)\n",
      "Requirement already satisfied: narwhals>=1.14.2 in /home/ec2-user/anaconda3/envs/python3/lib/python3.10/site-packages (from altair>=4.2.0->gradio) (1.18.2)\n",
      "Requirement already satisfied: packaging in /home/ec2-user/anaconda3/envs/python3/lib/python3.10/site-packages (from altair>=4.2.0->gradio) (24.2)\n",
      "Requirement already satisfied: python-dateutil<3.0.0,>=2.1 in /home/ec2-user/anaconda3/envs/python3/lib/python3.10/site-packages (from botocore<1.36.0,>=1.35.76->boto3) (2.9.0)\n",
      "Requirement already satisfied: urllib3!=2.2.0,<3,>=1.25.4 in /home/ec2-user/anaconda3/envs/python3/lib/python3.10/site-packages (from botocore<1.36.0,>=1.35.76->boto3) (2.2.3)\n",
      "Requirement already satisfied: aiohappyeyeballs>=2.3.0 in /home/ec2-user/anaconda3/envs/python3/lib/python3.10/site-packages (from aiohttp->gradio) (2.4.3)\n",
      "Requirement already satisfied: aiosignal>=1.1.2 in /home/ec2-user/anaconda3/envs/python3/lib/python3.10/site-packages (from aiohttp->gradio) (1.3.1)\n",
      "Requirement already satisfied: attrs>=17.3.0 in /home/ec2-user/anaconda3/envs/python3/lib/python3.10/site-packages (from aiohttp->gradio) (23.2.0)\n",
      "Requirement already satisfied: frozenlist>=1.1.1 in /home/ec2-user/anaconda3/envs/python3/lib/python3.10/site-packages (from aiohttp->gradio) (1.5.0)\n",
      "Requirement already satisfied: multidict<7.0,>=4.5 in /home/ec2-user/anaconda3/envs/python3/lib/python3.10/site-packages (from aiohttp->gradio) (6.1.0)\n",
      "Requirement already satisfied: yarl<2.0,>=1.12.0 in /home/ec2-user/anaconda3/envs/python3/lib/python3.10/site-packages (from aiohttp->gradio) (1.16.0)\n",
      "Requirement already satisfied: async-timeout<5.0,>=4.0 in /home/ec2-user/anaconda3/envs/python3/lib/python3.10/site-packages (from aiohttp->gradio) (4.0.3)\n",
      "Requirement already satisfied: starlette<0.42.0,>=0.40.0 in /home/ec2-user/anaconda3/envs/python3/lib/python3.10/site-packages (from fastapi->gradio) (0.41.3)\n",
      "Requirement already satisfied: annotated-types>=0.6.0 in /home/ec2-user/anaconda3/envs/python3/lib/python3.10/site-packages (from pydantic->gradio) (0.7.0)\n",
      "Requirement already satisfied: pydantic-core==2.27.1 in /home/ec2-user/anaconda3/envs/python3/lib/python3.10/site-packages (from pydantic->gradio) (2.27.1)\n",
      "Requirement already satisfied: anyio in /home/ec2-user/anaconda3/envs/python3/lib/python3.10/site-packages (from httpx->gradio) (4.6.2.post1)\n",
      "Requirement already satisfied: certifi in /home/ec2-user/anaconda3/envs/python3/lib/python3.10/site-packages (from httpx->gradio) (2024.8.30)\n",
      "Requirement already satisfied: httpcore==1.* in /home/ec2-user/anaconda3/envs/python3/lib/python3.10/site-packages (from httpx->gradio) (1.0.6)\n",
      "Requirement already satisfied: idna in /home/ec2-user/anaconda3/envs/python3/lib/python3.10/site-packages (from httpx->gradio) (3.10)\n",
      "Requirement already satisfied: sniffio in /home/ec2-user/anaconda3/envs/python3/lib/python3.10/site-packages (from httpx->gradio) (1.3.1)\n",
      "Requirement already satisfied: h11<0.15,>=0.13 in /home/ec2-user/anaconda3/envs/python3/lib/python3.10/site-packages (from httpcore==1.*->httpx->gradio) (0.14.0)\n",
      "Requirement already satisfied: mdurl~=0.1 in /home/ec2-user/anaconda3/envs/python3/lib/python3.10/site-packages (from markdown-it-py[linkify,plugins]->gradio) (0.1.2)\n",
      "Requirement already satisfied: mdit-py-plugins in /home/ec2-user/anaconda3/envs/python3/lib/python3.10/site-packages (from markdown-it-py[linkify,plugins]->gradio) (0.4.2)\n",
      "Requirement already satisfied: linkify-it-py<3,>=1 in /home/ec2-user/anaconda3/envs/python3/lib/python3.10/site-packages (from markdown-it-py[linkify,plugins]->gradio) (2.0.3)\n",
      "Requirement already satisfied: contourpy>=1.0.1 in /home/ec2-user/anaconda3/envs/python3/lib/python3.10/site-packages (from matplotlib->gradio) (1.3.0)\n",
      "Requirement already satisfied: cycler>=0.10 in /home/ec2-user/anaconda3/envs/python3/lib/python3.10/site-packages (from matplotlib->gradio) (0.12.1)\n",
      "Requirement already satisfied: fonttools>=4.22.0 in /home/ec2-user/anaconda3/envs/python3/lib/python3.10/site-packages (from matplotlib->gradio) (4.54.1)\n",
      "Requirement already satisfied: kiwisolver>=1.3.1 in /home/ec2-user/anaconda3/envs/python3/lib/python3.10/site-packages (from matplotlib->gradio) (1.4.7)\n",
      "Requirement already satisfied: pyparsing>=2.3.1 in /home/ec2-user/anaconda3/envs/python3/lib/python3.10/site-packages (from matplotlib->gradio) (3.2.0)\n",
      "Requirement already satisfied: pytz>=2020.1 in /home/ec2-user/anaconda3/envs/python3/lib/python3.10/site-packages (from pandas->gradio) (2024.2)\n",
      "Requirement already satisfied: charset-normalizer<4,>=2 in /home/ec2-user/anaconda3/envs/python3/lib/python3.10/site-packages (from requests->gradio) (3.4.0)\n",
      "Requirement already satisfied: click>=7.0 in /home/ec2-user/anaconda3/envs/python3/lib/python3.10/site-packages (from uvicorn->gradio) (8.1.7)\n",
      "Requirement already satisfied: jsonschema-specifications>=2023.03.6 in /home/ec2-user/anaconda3/envs/python3/lib/python3.10/site-packages (from jsonschema>=3.0->altair>=4.2.0->gradio) (2024.10.1)\n",
      "Requirement already satisfied: referencing>=0.28.4 in /home/ec2-user/anaconda3/envs/python3/lib/python3.10/site-packages (from jsonschema>=3.0->altair>=4.2.0->gradio) (0.35.1)\n",
      "Requirement already satisfied: rpds-py>=0.7.1 in /home/ec2-user/anaconda3/envs/python3/lib/python3.10/site-packages (from jsonschema>=3.0->altair>=4.2.0->gradio) (0.21.0)\n",
      "Requirement already satisfied: uc-micro-py in /home/ec2-user/anaconda3/envs/python3/lib/python3.10/site-packages (from linkify-it-py<3,>=1->markdown-it-py[linkify,plugins]->gradio) (1.0.3)\n",
      "Requirement already satisfied: six>=1.5 in /home/ec2-user/anaconda3/envs/python3/lib/python3.10/site-packages (from python-dateutil<3.0.0,>=2.1->botocore<1.36.0,>=1.35.76->boto3) (1.16.0)\n",
      "Requirement already satisfied: exceptiongroup>=1.0.2 in /home/ec2-user/anaconda3/envs/python3/lib/python3.10/site-packages (from anyio->httpx->gradio) (1.2.2)\n",
      "Requirement already satisfied: propcache>=0.2.0 in /home/ec2-user/anaconda3/envs/python3/lib/python3.10/site-packages (from yarl<2.0,>=1.12.0->aiohttp->gradio) (0.2.0)\n"
     ]
    }
   ],
   "source": [
    "!pip install gradio boto3"
   ]
  },
  {
   "cell_type": "code",
   "execution_count": 53,
   "id": "a77e34a0-c3ef-44ee-8330-438f9b8d4e7f",
   "metadata": {
    "tags": []
   },
   "outputs": [],
   "source": [
    "# !pip install gradio==3.16.1b1"
   ]
  },
  {
   "cell_type": "code",
   "execution_count": 55,
   "id": "2025dfc0-8b1a-41ca-9aca-3329ecad811c",
   "metadata": {
    "tags": []
   },
   "outputs": [
    {
     "name": "stderr",
     "output_type": "stream",
     "text": [
      "/home/ec2-user/anaconda3/envs/python3/lib/python3.10/site-packages/gradio/components/chatbot.py:237: UserWarning: You have not specified a value for the `type` parameter. Defaulting to the 'tuples' format for chatbot messages, but this is deprecated and will be removed in a future version of Gradio. Please set type='messages' instead, which uses openai-style dictionaries with 'role' and 'content' keys.\n",
      "  warnings.warn(\n",
      "which: no node in (/usr/local/cuda-11.8/bin:/home/ec2-user/anaconda3/envs/python3/bin:/home/ec2-user/anaconda3/condabin:/home/ec2-user/anaconda3/bin:/opt/amazon/openmpi/bin:/opt/amazon/efa/bin:/home/ec2-user/.dl_binaries/bin:/usr/local/cuda-12.1/bin:/usr/local/cuda-12.1/include:/usr/libexec/gcc/x86_64-redhat-linux/7:/opt/aws/bin:/usr/local/bin:/usr/bin:/usr/local/sbin:/usr/sbin)\n"
     ]
    },
    {
     "name": "stdout",
     "output_type": "stream",
     "text": [
      "* Running on local URL:  http://127.0.0.1:7884\n",
      "* Running on public URL: https://91b476af595a14391d.gradio.live\n",
      "\n",
      "This share link expires in 72 hours. For free permanent hosting and GPU upgrades, run `gradio deploy` from the terminal in the working directory to deploy to Hugging Face Spaces (https://huggingface.co/spaces)\n"
     ]
    },
    {
     "data": {
      "text/html": [
       "<div><iframe src=\"https://91b476af595a14391d.gradio.live\" width=\"100%\" height=\"500\" allow=\"autoplay; camera; microphone; clipboard-read; clipboard-write;\" frameborder=\"0\" allowfullscreen></iframe></div>"
      ],
      "text/plain": [
       "<IPython.core.display.HTML object>"
      ]
     },
     "metadata": {},
     "output_type": "display_data"
    },
    {
     "data": {
      "text/plain": []
     },
     "execution_count": 55,
     "metadata": {},
     "output_type": "execute_result"
    }
   ],
   "source": [
    "import gradio as gr\n",
    "from gradio import ChatMessage\n",
    "\n",
    "# Mock interaction function for Gradio\n",
    "async def interact_with_langchain_agent(prompt, chat_history):\n",
    "    \"\"\"\n",
    "    Handles interaction between the user and the LangChain agent.\n",
    "    \"\"\"\n",
    "    # Append the user's message to the chat history\n",
    "    chat_history.append({\"role\": \"user\", \"content\": prompt})\n",
    "    yield chat_history\n",
    "\n",
    "    # Process the input with the LangChain agent\n",
    "    try:\n",
    "        response = agent_executor.invoke({\"input\": prompt})  # Replace with your agent logic\n",
    "        raw_output = response[\"output\"][0][\"text\"]  # Adjust indexing if necessary\n",
    "        chat_history.append({\"role\": \"assistant\", \"content\": raw_output})\n",
    "    except Exception as e:\n",
    "        # Handle parsing errors or any other issues\n",
    "        chat_history.append({\"role\": \"assistant\", \"content\": f\"Error: {str(e)}\"})\n",
    "\n",
    "    # Yield the updated chat history\n",
    "    yield chat_history\n",
    "\n",
    "\n",
    "with gr.Blocks() as demo:\n",
    "    gr.Markdown(\"# Auto Replenishment Chatbot 🦜⛓️\")\n",
    "    \n",
    "    # Chatbot UI\n",
    "    chatbot = gr.Chatbot(label=\"Agent\")\n",
    "    user_input = gr.Textbox(lines=1, placeholder=\"Enter your query here...\", label=\"Your Query\")\n",
    "\n",
    "    # Link input to the interaction function\n",
    "    user_input.submit(\n",
    "        interact_with_langchain_agent,\n",
    "        inputs=[user_input, chatbot],\n",
    "        outputs=chatbot\n",
    "    )\n",
    "\n",
    "# Launch the Gradio interface\n",
    "demo.launch(share=True)"
   ]
  },
  {
   "cell_type": "code",
   "execution_count": 54,
   "id": "55270c49-0b09-46b9-a5d3-bc481f02deb0",
   "metadata": {
    "tags": []
   },
   "outputs": [
    {
     "name": "stderr",
     "output_type": "stream",
     "text": [
      "which: no node in (/usr/local/cuda-11.8/bin:/home/ec2-user/anaconda3/envs/python3/bin:/home/ec2-user/anaconda3/condabin:/home/ec2-user/anaconda3/bin:/opt/amazon/openmpi/bin:/opt/amazon/efa/bin:/home/ec2-user/.dl_binaries/bin:/usr/local/cuda-12.1/bin:/usr/local/cuda-12.1/include:/usr/libexec/gcc/x86_64-redhat-linux/7:/opt/aws/bin:/usr/local/bin:/usr/bin:/usr/local/sbin:/usr/sbin)\n"
     ]
    },
    {
     "name": "stdout",
     "output_type": "stream",
     "text": [
      "* Running on local URL:  http://127.0.0.1:7881\n",
      "* Running on public URL: https://556bf6da615f54c901.gradio.live\n",
      "\n",
      "This share link expires in 72 hours. For free permanent hosting and GPU upgrades, run `gradio deploy` from the terminal in the working directory to deploy to Hugging Face Spaces (https://huggingface.co/spaces)\n"
     ]
    },
    {
     "data": {
      "text/html": [
       "<div><iframe src=\"https://556bf6da615f54c901.gradio.live\" width=\"100%\" height=\"500\" allow=\"autoplay; camera; microphone; clipboard-read; clipboard-write;\" frameborder=\"0\" allowfullscreen></iframe></div>"
      ],
      "text/plain": [
       "<IPython.core.display.HTML object>"
      ]
     },
     "metadata": {},
     "output_type": "display_data"
    },
    {
     "data": {
      "text/plain": []
     },
     "execution_count": 54,
     "metadata": {},
     "output_type": "execute_result"
    }
   ],
   "source": [
    "from gradio import ChatMessage\n",
    "\n",
    "async def interact_with_langchain_agent(prompt, messages):\n",
    "    messages.append(ChatMessage(role=\"user\", content=prompt))\n",
    "    yield messages\n",
    "    async for chunk in agent_executor.astream(\n",
    "        {\"input\": prompt}\n",
    "    ):\n",
    "        if \"steps\" in chunk:\n",
    "            for step in chunk[\"steps\"]:\n",
    "                messages.append(ChatMessage(role=\"assistant\", content=step.action.log,\n",
    "                                  metadata={\"title\": f\"🛠️ Used tool {step.action.tool}\"}))\n",
    "                yield messages\n",
    "        if \"output\" in chunk:\n",
    "            messages.append(ChatMessage(role=\"assistant\", content=chunk[\"output\"]))\n",
    "            yield messages\n",
    "\n",
    "\n",
    "with gr.Blocks() as demo:\n",
    "    gr.Markdown(\"Auto replenishment Reply\")\n",
    "    chatbot_2 = gr.Chatbot(\n",
    "        type=\"messages\",\n",
    "        label=\"Agent\",\n",
    "        avatar_images=(\n",
    "            None,\n",
    "            \"https://em-content.zobj.net/source/twitter/141/parrot_1f99c.png\",\n",
    "        ),\n",
    "    )\n",
    "    input_2 = gr.Textbox(lines=1, label=\"Chat Message\")\n",
    "    input_2.submit(interact_with_langchain_agent, [input_2, chatbot_2], [chatbot_2])\n",
    "    \n",
    "demo.launch(share=True)"
   ]
  },
  {
   "cell_type": "code",
   "execution_count": 19,
   "id": "1fe397a4-b912-4bed-a967-36eed04629e4",
   "metadata": {},
   "outputs": [
    {
     "name": "stderr",
     "output_type": "stream",
     "text": [
      "which: no node in (/usr/local/cuda-11.8/bin:/home/ec2-user/anaconda3/envs/python3/bin:/home/ec2-user/anaconda3/condabin:/home/ec2-user/anaconda3/bin:/opt/amazon/openmpi/bin:/opt/amazon/efa/bin:/home/ec2-user/.dl_binaries/bin:/usr/local/cuda-12.1/bin:/usr/local/cuda-12.1/include:/usr/libexec/gcc/x86_64-redhat-linux/7:/opt/aws/bin:/usr/local/bin:/usr/bin:/usr/local/sbin:/usr/sbin)\n"
     ]
    },
    {
     "name": "stdout",
     "output_type": "stream",
     "text": [
      "* Running on local URL:  http://127.0.0.1:7861\n",
      "* Running on public URL: https://64ed0f2e284c10ed34.gradio.live\n",
      "\n",
      "This share link expires in 72 hours. For free permanent hosting and GPU upgrades, run `gradio deploy` from the terminal in the working directory to deploy to Hugging Face Spaces (https://huggingface.co/spaces)\n"
     ]
    },
    {
     "data": {
      "text/html": [
       "<div><iframe src=\"https://64ed0f2e284c10ed34.gradio.live\" width=\"100%\" height=\"500\" allow=\"autoplay; camera; microphone; clipboard-read; clipboard-write;\" frameborder=\"0\" allowfullscreen></iframe></div>"
      ],
      "text/plain": [
       "<IPython.core.display.HTML object>"
      ]
     },
     "metadata": {},
     "output_type": "display_data"
    },
    {
     "data": {
      "text/plain": []
     },
     "execution_count": 19,
     "metadata": {},
     "output_type": "execute_result"
    },
    {
     "name": "stderr",
     "output_type": "stream",
     "text": [
      "/home/ec2-user/anaconda3/envs/python3/lib/python3.10/site-packages/wikipedia/wikipedia.py:389: GuessedAtParserWarning: No parser was explicitly specified, so I'm using the best available HTML parser for this system (\"html.parser\"). This usually isn't a problem, but if you run this code on another system, or in a different virtual environment, it may use a different parser and behave differently.\n",
      "\n",
      "The code that caused this warning is on line 389 of the file /home/ec2-user/anaconda3/envs/python3/lib/python3.10/site-packages/wikipedia/wikipedia.py. To get rid of this warning, pass the additional argument 'features=\"html.parser\"' to the BeautifulSoup constructor.\n",
      "\n",
      "  lis = BeautifulSoup(html).find_all('li')\n"
     ]
    },
    {
     "name": "stdout",
     "output_type": "stream",
     "text": [
      "Agent response: {'input': 'hi', 'output': [{'type': 'text', 'text': 'Since the query \"hi\" is a simple greeting, here is a friendly response:\\n\\nHi there! How can I assist you today? I\\'m an AI assistant created by Anthropic to help with a variety of tasks. Please let me know if you have any questions or if there is anything specific I can help with.\\n\\nI searched Wikipedia for some context on the word \"hi\", but it seems to mostly refer to a song by Wings and a British sitcom called \"Hi-de-Hi!\". Neither of those seem directly relevant to your greeting.\\n\\nIn general, \"hi\" is an informal way of saying hello and greeting someone. It\\'s a common and friendly way to start a conversation or interaction. Let me know if you need any other information or if you have a particular topic you\\'d like to discuss further.', 'index': 0}]}\n"
     ]
    },
    {
     "name": "stderr",
     "output_type": "stream",
     "text": [
      "Traceback (most recent call last):\n",
      "  File \"/home/ec2-user/anaconda3/envs/python3/lib/python3.10/site-packages/gradio/queueing.py\", line 624, in process_events\n",
      "    response = await route_utils.call_process_api(\n",
      "  File \"/home/ec2-user/anaconda3/envs/python3/lib/python3.10/site-packages/gradio/route_utils.py\", line 323, in call_process_api\n",
      "    output = await app.get_blocks().process_api(\n",
      "  File \"/home/ec2-user/anaconda3/envs/python3/lib/python3.10/site-packages/gradio/blocks.py\", line 2053, in process_api\n",
      "    data = await self.postprocess_data(block_fn, result[\"prediction\"], state)\n",
      "  File \"/home/ec2-user/anaconda3/envs/python3/lib/python3.10/site-packages/gradio/blocks.py\", line 1859, in postprocess_data\n",
      "    prediction_value = block.postprocess(prediction_value)\n",
      "  File \"/home/ec2-user/anaconda3/envs/python3/lib/python3.10/site-packages/gradio/components/chatbot.py\", line 553, in postprocess\n",
      "    self._check_format(value, \"messages\")\n",
      "  File \"/home/ec2-user/anaconda3/envs/python3/lib/python3.10/site-packages/gradio/components/chatbot.py\", line 342, in _check_format\n",
      "    raise Error(\n",
      "gradio.exceptions.Error: \"Data incompatible with messages format. Each message should be a dictionary with 'role' and 'content' keys or a ChatMessage object.\"\n"
     ]
    }
   ],
   "source": [
    "import gradio as gr\n",
    "from botocore.exceptions import ClientError\n",
    "\n",
    "bedrock_client = boto3.client(\"bedrock\", region_name=\"us-east-1\")\n",
    "\n",
    "history = [\"\", \"\"]\n",
    "                    \n",
    "    \n",
    "    \n",
    "# response = agent_executor.invoke(\"input\":\"hi\")\n",
    "# print(f\"Agent response: {response}\")\n",
    "    \n",
    "    \n",
    "def chat_with_bedrock(message,history):\n",
    "    try:\n",
    "        # Pass the message to the agent and get the response\n",
    "        response = agent_executor.invoke({\"input\":message})\n",
    "        print(f\"Agent response: {response}\")\n",
    "        history.append([message, response])\n",
    "        \n",
    "        return [message,response], history\n",
    "    \n",
    "    except Exception as e:\n",
    "        print(f\"Error calling Bedrock model: {str(e)}\")\n",
    "        return f\"Error calling Bedrock model: {str(e)}\"\n",
    "\n",
    "    \n",
    "\n",
    "# Create a Gradio chat interface\n",
    "def gradio_interface():\n",
    "    return gr.ChatInterface(fn=chat_with_bedrock, type=\"messages\")\n",
    "\n",
    "# Launch the Gradio interface\n",
    "gradio_interface().launch(share=True)"
   ]
  },
  {
   "cell_type": "code",
   "execution_count": null,
   "id": "84569183-e3fc-4d55-8801-ca37d8db67ff",
   "metadata": {},
   "outputs": [],
   "source": []
  }
 ],
 "metadata": {
  "kernelspec": {
   "display_name": "conda_python3",
   "language": "python",
   "name": "conda_python3"
  },
  "language_info": {
   "codemirror_mode": {
    "name": "ipython",
    "version": 3
   },
   "file_extension": ".py",
   "mimetype": "text/x-python",
   "name": "python",
   "nbconvert_exporter": "python",
   "pygments_lexer": "ipython3",
   "version": "3.10.15"
  }
 },
 "nbformat": 4,
 "nbformat_minor": 5
}
